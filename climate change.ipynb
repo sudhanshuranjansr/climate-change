{
 "cells": [
  {
   "cell_type": "code",
   "execution_count": null,
   "metadata": {},
   "outputs": [],
   "source": []
  },
  {
   "cell_type": "code",
   "execution_count": 1,
   "metadata": {},
   "outputs": [],
   "source": [
    "import numpy as np\n",
    "import pandas as pd\n",
    "import numpy as np\n",
    "import matplotlib.pyplot as plt\n",
    "%matplotlib inline\n",
    "import seaborn as sns\n",
    "from pandas import Series,DataFrame\n",
    "sns.set_style(\"whitegrid\")\n",
    "import pandas as pd"
   ]
  },
  {
   "cell_type": "code",
   "execution_count": 2,
   "metadata": {},
   "outputs": [],
   "source": [
    "x1=pd.read_csv(\"population_history.csv\")"
   ]
  },
  {
   "cell_type": "code",
   "execution_count": 3,
   "metadata": {},
   "outputs": [
    {
     "data": {
      "text/html": [
       "<div>\n",
       "<style scoped>\n",
       "    .dataframe tbody tr th:only-of-type {\n",
       "        vertical-align: middle;\n",
       "    }\n",
       "\n",
       "    .dataframe tbody tr th {\n",
       "        vertical-align: top;\n",
       "    }\n",
       "\n",
       "    .dataframe thead th {\n",
       "        text-align: right;\n",
       "    }\n",
       "</style>\n",
       "<table border=\"1\" class=\"dataframe\">\n",
       "  <thead>\n",
       "    <tr style=\"text-align: right;\">\n",
       "      <th></th>\n",
       "      <th>Year</th>\n",
       "      <th>Unnamed: 1</th>\n",
       "      <th>Population</th>\n",
       "    </tr>\n",
       "  </thead>\n",
       "  <tbody>\n",
       "    <tr>\n",
       "      <th>0</th>\n",
       "      <td>1</td>\n",
       "      <td>NaN</td>\n",
       "      <td>200 million</td>\n",
       "    </tr>\n",
       "    <tr>\n",
       "      <th>1</th>\n",
       "      <td>1000</td>\n",
       "      <td>NaN</td>\n",
       "      <td>275 million</td>\n",
       "    </tr>\n",
       "    <tr>\n",
       "      <th>2</th>\n",
       "      <td>1500</td>\n",
       "      <td>NaN</td>\n",
       "      <td>450 million</td>\n",
       "    </tr>\n",
       "    <tr>\n",
       "      <th>3</th>\n",
       "      <td>1650</td>\n",
       "      <td>NaN</td>\n",
       "      <td>500 million</td>\n",
       "    </tr>\n",
       "    <tr>\n",
       "      <th>4</th>\n",
       "      <td>1750</td>\n",
       "      <td>NaN</td>\n",
       "      <td>700 million</td>\n",
       "    </tr>\n",
       "  </tbody>\n",
       "</table>\n",
       "</div>"
      ],
      "text/plain": [
       "   Year  Unnamed: 1   Population\n",
       "0     1         NaN  200 million\n",
       "1  1000         NaN  275 million\n",
       "2  1500         NaN  450 million\n",
       "3  1650         NaN  500 million\n",
       "4  1750         NaN  700 million"
      ]
     },
     "execution_count": 3,
     "metadata": {},
     "output_type": "execute_result"
    }
   ],
   "source": [
    "x1.head()"
   ]
  },
  {
   "cell_type": "code",
   "execution_count": 4,
   "metadata": {},
   "outputs": [],
   "source": [
    "x3=pd.read_csv(\"sea_label.csv\")"
   ]
  },
  {
   "cell_type": "code",
   "execution_count": 5,
   "metadata": {},
   "outputs": [
    {
     "data": {
      "text/html": [
       "<div>\n",
       "<style scoped>\n",
       "    .dataframe tbody tr th:only-of-type {\n",
       "        vertical-align: middle;\n",
       "    }\n",
       "\n",
       "    .dataframe tbody tr th {\n",
       "        vertical-align: top;\n",
       "    }\n",
       "\n",
       "    .dataframe thead th {\n",
       "        text-align: right;\n",
       "    }\n",
       "</style>\n",
       "<table border=\"1\" class=\"dataframe\">\n",
       "  <thead>\n",
       "    <tr style=\"text-align: right;\">\n",
       "      <th></th>\n",
       "      <th>Time</th>\n",
       "      <th>GMSL (mm)</th>\n",
       "      <th>GMSL uncertainty (mm)</th>\n",
       "    </tr>\n",
       "  </thead>\n",
       "  <tbody>\n",
       "    <tr>\n",
       "      <th>0</th>\n",
       "      <td>1880.0417</td>\n",
       "      <td>-183.0</td>\n",
       "      <td>24.2</td>\n",
       "    </tr>\n",
       "    <tr>\n",
       "      <th>1</th>\n",
       "      <td>1880.1250</td>\n",
       "      <td>-171.1</td>\n",
       "      <td>24.2</td>\n",
       "    </tr>\n",
       "    <tr>\n",
       "      <th>2</th>\n",
       "      <td>1880.2083</td>\n",
       "      <td>-164.3</td>\n",
       "      <td>24.2</td>\n",
       "    </tr>\n",
       "    <tr>\n",
       "      <th>3</th>\n",
       "      <td>1880.2917</td>\n",
       "      <td>-158.2</td>\n",
       "      <td>24.2</td>\n",
       "    </tr>\n",
       "    <tr>\n",
       "      <th>4</th>\n",
       "      <td>1880.3750</td>\n",
       "      <td>-158.7</td>\n",
       "      <td>24.2</td>\n",
       "    </tr>\n",
       "  </tbody>\n",
       "</table>\n",
       "</div>"
      ],
      "text/plain": [
       "        Time  GMSL (mm)  GMSL uncertainty (mm)\n",
       "0  1880.0417     -183.0                   24.2\n",
       "1  1880.1250     -171.1                   24.2\n",
       "2  1880.2083     -164.3                   24.2\n",
       "3  1880.2917     -158.2                   24.2\n",
       "4  1880.3750     -158.7                   24.2"
      ]
     },
     "execution_count": 5,
     "metadata": {},
     "output_type": "execute_result"
    }
   ],
   "source": [
    "x3.head()"
   ]
  },
  {
   "cell_type": "code",
   "execution_count": 6,
   "metadata": {},
   "outputs": [],
   "source": [
    "#green=pd.read_clipboard()"
   ]
  },
  {
   "cell_type": "code",
   "execution_count": 7,
   "metadata": {},
   "outputs": [],
   "source": [
    "#green.head()"
   ]
  },
  {
   "cell_type": "code",
   "execution_count": 8,
   "metadata": {},
   "outputs": [],
   "source": [
    "x21=pd.ExcelFile(\"green_house.xlsx\")"
   ]
  },
  {
   "cell_type": "code",
   "execution_count": 9,
   "metadata": {},
   "outputs": [],
   "source": [
    "x2=x21.parse(\"Sheet1\")\n",
    "x21=x2.T"
   ]
  },
  {
   "cell_type": "code",
   "execution_count": 10,
   "metadata": {},
   "outputs": [
    {
     "data": {
      "text/html": [
       "<div>\n",
       "<style scoped>\n",
       "    .dataframe tbody tr th:only-of-type {\n",
       "        vertical-align: middle;\n",
       "    }\n",
       "\n",
       "    .dataframe tbody tr th {\n",
       "        vertical-align: top;\n",
       "    }\n",
       "\n",
       "    .dataframe thead th {\n",
       "        text-align: right;\n",
       "    }\n",
       "</style>\n",
       "<table border=\"1\" class=\"dataframe\">\n",
       "  <thead>\n",
       "    <tr style=\"text-align: right;\">\n",
       "      <th></th>\n",
       "      <th>0</th>\n",
       "      <th>1</th>\n",
       "      <th>2</th>\n",
       "      <th>3</th>\n",
       "      <th>4</th>\n",
       "      <th>5</th>\n",
       "      <th>6</th>\n",
       "      <th>7</th>\n",
       "      <th>8</th>\n",
       "      <th>9</th>\n",
       "      <th>...</th>\n",
       "      <th>254</th>\n",
       "      <th>255</th>\n",
       "      <th>256</th>\n",
       "      <th>257</th>\n",
       "      <th>258</th>\n",
       "      <th>259</th>\n",
       "      <th>260</th>\n",
       "      <th>261</th>\n",
       "      <th>262</th>\n",
       "      <th>263</th>\n",
       "    </tr>\n",
       "  </thead>\n",
       "  <tbody>\n",
       "    <tr>\n",
       "      <th>Country Name</th>\n",
       "      <td>Aruba</td>\n",
       "      <td>Afghanistan</td>\n",
       "      <td>Angola</td>\n",
       "      <td>Albania</td>\n",
       "      <td>Andorra</td>\n",
       "      <td>Arab World</td>\n",
       "      <td>United Arab Emirates</td>\n",
       "      <td>Argentina</td>\n",
       "      <td>Armenia</td>\n",
       "      <td>American Samoa</td>\n",
       "      <td>...</td>\n",
       "      <td>Virgin Islands (U.S.)</td>\n",
       "      <td>Vietnam</td>\n",
       "      <td>Vanuatu</td>\n",
       "      <td>World</td>\n",
       "      <td>Samoa</td>\n",
       "      <td>Kosovo</td>\n",
       "      <td>Yemen, Rep.</td>\n",
       "      <td>South Africa</td>\n",
       "      <td>Zambia</td>\n",
       "      <td>Zimbabwe</td>\n",
       "    </tr>\n",
       "    <tr>\n",
       "      <th>Country Code</th>\n",
       "      <td>ABW</td>\n",
       "      <td>AFG</td>\n",
       "      <td>AGO</td>\n",
       "      <td>ALB</td>\n",
       "      <td>AND</td>\n",
       "      <td>ARB</td>\n",
       "      <td>ARE</td>\n",
       "      <td>ARG</td>\n",
       "      <td>ARM</td>\n",
       "      <td>ASM</td>\n",
       "      <td>...</td>\n",
       "      <td>VIR</td>\n",
       "      <td>VNM</td>\n",
       "      <td>VUT</td>\n",
       "      <td>WLD</td>\n",
       "      <td>WSM</td>\n",
       "      <td>XKX</td>\n",
       "      <td>YEM</td>\n",
       "      <td>ZAF</td>\n",
       "      <td>ZMB</td>\n",
       "      <td>ZWE</td>\n",
       "    </tr>\n",
       "    <tr>\n",
       "      <th>Indicator Name</th>\n",
       "      <td>Total greenhouse gas emissions (kt of CO2 equi...</td>\n",
       "      <td>Total greenhouse gas emissions (kt of CO2 equi...</td>\n",
       "      <td>Total greenhouse gas emissions (kt of CO2 equi...</td>\n",
       "      <td>Total greenhouse gas emissions (kt of CO2 equi...</td>\n",
       "      <td>Total greenhouse gas emissions (kt of CO2 equi...</td>\n",
       "      <td>Total greenhouse gas emissions (kt of CO2 equi...</td>\n",
       "      <td>Total greenhouse gas emissions (kt of CO2 equi...</td>\n",
       "      <td>Total greenhouse gas emissions (kt of CO2 equi...</td>\n",
       "      <td>Total greenhouse gas emissions (kt of CO2 equi...</td>\n",
       "      <td>Total greenhouse gas emissions (kt of CO2 equi...</td>\n",
       "      <td>...</td>\n",
       "      <td>Total greenhouse gas emissions (kt of CO2 equi...</td>\n",
       "      <td>Total greenhouse gas emissions (kt of CO2 equi...</td>\n",
       "      <td>Total greenhouse gas emissions (kt of CO2 equi...</td>\n",
       "      <td>Total greenhouse gas emissions (kt of CO2 equi...</td>\n",
       "      <td>Total greenhouse gas emissions (kt of CO2 equi...</td>\n",
       "      <td>Total greenhouse gas emissions (kt of CO2 equi...</td>\n",
       "      <td>Total greenhouse gas emissions (kt of CO2 equi...</td>\n",
       "      <td>Total greenhouse gas emissions (kt of CO2 equi...</td>\n",
       "      <td>Total greenhouse gas emissions (kt of CO2 equi...</td>\n",
       "      <td>Total greenhouse gas emissions (kt of CO2 equi...</td>\n",
       "    </tr>\n",
       "    <tr>\n",
       "      <th>Indicator Code</th>\n",
       "      <td>EN.ATM.GHGT.KT.CE</td>\n",
       "      <td>EN.ATM.GHGT.KT.CE</td>\n",
       "      <td>EN.ATM.GHGT.KT.CE</td>\n",
       "      <td>EN.ATM.GHGT.KT.CE</td>\n",
       "      <td>EN.ATM.GHGT.KT.CE</td>\n",
       "      <td>EN.ATM.GHGT.KT.CE</td>\n",
       "      <td>EN.ATM.GHGT.KT.CE</td>\n",
       "      <td>EN.ATM.GHGT.KT.CE</td>\n",
       "      <td>EN.ATM.GHGT.KT.CE</td>\n",
       "      <td>EN.ATM.GHGT.KT.CE</td>\n",
       "      <td>...</td>\n",
       "      <td>EN.ATM.GHGT.KT.CE</td>\n",
       "      <td>EN.ATM.GHGT.KT.CE</td>\n",
       "      <td>EN.ATM.GHGT.KT.CE</td>\n",
       "      <td>EN.ATM.GHGT.KT.CE</td>\n",
       "      <td>EN.ATM.GHGT.KT.CE</td>\n",
       "      <td>EN.ATM.GHGT.KT.CE</td>\n",
       "      <td>EN.ATM.GHGT.KT.CE</td>\n",
       "      <td>EN.ATM.GHGT.KT.CE</td>\n",
       "      <td>EN.ATM.GHGT.KT.CE</td>\n",
       "      <td>EN.ATM.GHGT.KT.CE</td>\n",
       "    </tr>\n",
       "    <tr>\n",
       "      <th>1960</th>\n",
       "      <td>NaN</td>\n",
       "      <td>NaN</td>\n",
       "      <td>NaN</td>\n",
       "      <td>NaN</td>\n",
       "      <td>NaN</td>\n",
       "      <td>NaN</td>\n",
       "      <td>NaN</td>\n",
       "      <td>NaN</td>\n",
       "      <td>NaN</td>\n",
       "      <td>NaN</td>\n",
       "      <td>...</td>\n",
       "      <td>NaN</td>\n",
       "      <td>NaN</td>\n",
       "      <td>NaN</td>\n",
       "      <td>NaN</td>\n",
       "      <td>NaN</td>\n",
       "      <td>NaN</td>\n",
       "      <td>NaN</td>\n",
       "      <td>NaN</td>\n",
       "      <td>NaN</td>\n",
       "      <td>NaN</td>\n",
       "    </tr>\n",
       "  </tbody>\n",
       "</table>\n",
       "<p>5 rows × 264 columns</p>\n",
       "</div>"
      ],
      "text/plain": [
       "                                                              0    \\\n",
       "Country Name                                                Aruba   \n",
       "Country Code                                                  ABW   \n",
       "Indicator Name  Total greenhouse gas emissions (kt of CO2 equi...   \n",
       "Indicator Code                                  EN.ATM.GHGT.KT.CE   \n",
       "1960                                                          NaN   \n",
       "\n",
       "                                                              1    \\\n",
       "Country Name                                          Afghanistan   \n",
       "Country Code                                                  AFG   \n",
       "Indicator Name  Total greenhouse gas emissions (kt of CO2 equi...   \n",
       "Indicator Code                                  EN.ATM.GHGT.KT.CE   \n",
       "1960                                                          NaN   \n",
       "\n",
       "                                                              2    \\\n",
       "Country Name                                               Angola   \n",
       "Country Code                                                  AGO   \n",
       "Indicator Name  Total greenhouse gas emissions (kt of CO2 equi...   \n",
       "Indicator Code                                  EN.ATM.GHGT.KT.CE   \n",
       "1960                                                          NaN   \n",
       "\n",
       "                                                              3    \\\n",
       "Country Name                                              Albania   \n",
       "Country Code                                                  ALB   \n",
       "Indicator Name  Total greenhouse gas emissions (kt of CO2 equi...   \n",
       "Indicator Code                                  EN.ATM.GHGT.KT.CE   \n",
       "1960                                                          NaN   \n",
       "\n",
       "                                                              4    \\\n",
       "Country Name                                              Andorra   \n",
       "Country Code                                                  AND   \n",
       "Indicator Name  Total greenhouse gas emissions (kt of CO2 equi...   \n",
       "Indicator Code                                  EN.ATM.GHGT.KT.CE   \n",
       "1960                                                          NaN   \n",
       "\n",
       "                                                              5    \\\n",
       "Country Name                                           Arab World   \n",
       "Country Code                                                  ARB   \n",
       "Indicator Name  Total greenhouse gas emissions (kt of CO2 equi...   \n",
       "Indicator Code                                  EN.ATM.GHGT.KT.CE   \n",
       "1960                                                          NaN   \n",
       "\n",
       "                                                              6    \\\n",
       "Country Name                                 United Arab Emirates   \n",
       "Country Code                                                  ARE   \n",
       "Indicator Name  Total greenhouse gas emissions (kt of CO2 equi...   \n",
       "Indicator Code                                  EN.ATM.GHGT.KT.CE   \n",
       "1960                                                          NaN   \n",
       "\n",
       "                                                              7    \\\n",
       "Country Name                                            Argentina   \n",
       "Country Code                                                  ARG   \n",
       "Indicator Name  Total greenhouse gas emissions (kt of CO2 equi...   \n",
       "Indicator Code                                  EN.ATM.GHGT.KT.CE   \n",
       "1960                                                          NaN   \n",
       "\n",
       "                                                              8    \\\n",
       "Country Name                                              Armenia   \n",
       "Country Code                                                  ARM   \n",
       "Indicator Name  Total greenhouse gas emissions (kt of CO2 equi...   \n",
       "Indicator Code                                  EN.ATM.GHGT.KT.CE   \n",
       "1960                                                          NaN   \n",
       "\n",
       "                                                              9    \\\n",
       "Country Name                                       American Samoa   \n",
       "Country Code                                                  ASM   \n",
       "Indicator Name  Total greenhouse gas emissions (kt of CO2 equi...   \n",
       "Indicator Code                                  EN.ATM.GHGT.KT.CE   \n",
       "1960                                                          NaN   \n",
       "\n",
       "                                      ...                          \\\n",
       "Country Name                          ...                           \n",
       "Country Code                          ...                           \n",
       "Indicator Name                        ...                           \n",
       "Indicator Code                        ...                           \n",
       "1960                                  ...                           \n",
       "\n",
       "                                                              254  \\\n",
       "Country Name                                Virgin Islands (U.S.)   \n",
       "Country Code                                                  VIR   \n",
       "Indicator Name  Total greenhouse gas emissions (kt of CO2 equi...   \n",
       "Indicator Code                                  EN.ATM.GHGT.KT.CE   \n",
       "1960                                                          NaN   \n",
       "\n",
       "                                                              255  \\\n",
       "Country Name                                              Vietnam   \n",
       "Country Code                                                  VNM   \n",
       "Indicator Name  Total greenhouse gas emissions (kt of CO2 equi...   \n",
       "Indicator Code                                  EN.ATM.GHGT.KT.CE   \n",
       "1960                                                          NaN   \n",
       "\n",
       "                                                              256  \\\n",
       "Country Name                                              Vanuatu   \n",
       "Country Code                                                  VUT   \n",
       "Indicator Name  Total greenhouse gas emissions (kt of CO2 equi...   \n",
       "Indicator Code                                  EN.ATM.GHGT.KT.CE   \n",
       "1960                                                          NaN   \n",
       "\n",
       "                                                              257  \\\n",
       "Country Name                                                World   \n",
       "Country Code                                                  WLD   \n",
       "Indicator Name  Total greenhouse gas emissions (kt of CO2 equi...   \n",
       "Indicator Code                                  EN.ATM.GHGT.KT.CE   \n",
       "1960                                                          NaN   \n",
       "\n",
       "                                                              258  \\\n",
       "Country Name                                                Samoa   \n",
       "Country Code                                                  WSM   \n",
       "Indicator Name  Total greenhouse gas emissions (kt of CO2 equi...   \n",
       "Indicator Code                                  EN.ATM.GHGT.KT.CE   \n",
       "1960                                                          NaN   \n",
       "\n",
       "                                                              259  \\\n",
       "Country Name                                               Kosovo   \n",
       "Country Code                                                  XKX   \n",
       "Indicator Name  Total greenhouse gas emissions (kt of CO2 equi...   \n",
       "Indicator Code                                  EN.ATM.GHGT.KT.CE   \n",
       "1960                                                          NaN   \n",
       "\n",
       "                                                              260  \\\n",
       "Country Name                                          Yemen, Rep.   \n",
       "Country Code                                                  YEM   \n",
       "Indicator Name  Total greenhouse gas emissions (kt of CO2 equi...   \n",
       "Indicator Code                                  EN.ATM.GHGT.KT.CE   \n",
       "1960                                                          NaN   \n",
       "\n",
       "                                                              261  \\\n",
       "Country Name                                         South Africa   \n",
       "Country Code                                                  ZAF   \n",
       "Indicator Name  Total greenhouse gas emissions (kt of CO2 equi...   \n",
       "Indicator Code                                  EN.ATM.GHGT.KT.CE   \n",
       "1960                                                          NaN   \n",
       "\n",
       "                                                              262  \\\n",
       "Country Name                                               Zambia   \n",
       "Country Code                                                  ZMB   \n",
       "Indicator Name  Total greenhouse gas emissions (kt of CO2 equi...   \n",
       "Indicator Code                                  EN.ATM.GHGT.KT.CE   \n",
       "1960                                                          NaN   \n",
       "\n",
       "                                                              263  \n",
       "Country Name                                             Zimbabwe  \n",
       "Country Code                                                  ZWE  \n",
       "Indicator Name  Total greenhouse gas emissions (kt of CO2 equi...  \n",
       "Indicator Code                                  EN.ATM.GHGT.KT.CE  \n",
       "1960                                                          NaN  \n",
       "\n",
       "[5 rows x 264 columns]"
      ]
     },
     "execution_count": 10,
     "metadata": {},
     "output_type": "execute_result"
    }
   ],
   "source": [
    "x21.head()"
   ]
  },
  {
   "cell_type": "code",
   "execution_count": 11,
   "metadata": {},
   "outputs": [],
   "source": [
    "y1=pd.ExcelFile(\"temprature.xls\")\n"
   ]
  },
  {
   "cell_type": "code",
   "execution_count": 12,
   "metadata": {},
   "outputs": [],
   "source": [
    "y=y1.parse(\"tem\")"
   ]
  },
  {
   "cell_type": "code",
   "execution_count": 13,
   "metadata": {},
   "outputs": [
    {
     "data": {
      "text/html": [
       "<div>\n",
       "<style scoped>\n",
       "    .dataframe tbody tr th:only-of-type {\n",
       "        vertical-align: middle;\n",
       "    }\n",
       "\n",
       "    .dataframe tbody tr th {\n",
       "        vertical-align: top;\n",
       "    }\n",
       "\n",
       "    .dataframe thead th {\n",
       "        text-align: right;\n",
       "    }\n",
       "</style>\n",
       "<table border=\"1\" class=\"dataframe\">\n",
       "  <thead>\n",
       "    <tr style=\"text-align: right;\">\n",
       "      <th></th>\n",
       "      <th>Average Global Temperature, 1880-2011</th>\n",
       "      <th>Unnamed: 1</th>\n",
       "    </tr>\n",
       "  </thead>\n",
       "  <tbody>\n",
       "    <tr>\n",
       "      <th>0</th>\n",
       "      <td>NaN</td>\n",
       "      <td>NaN</td>\n",
       "    </tr>\n",
       "    <tr>\n",
       "      <th>1</th>\n",
       "      <td>Year</td>\n",
       "      <td>Temperature</td>\n",
       "    </tr>\n",
       "    <tr>\n",
       "      <th>2</th>\n",
       "      <td>NaN</td>\n",
       "      <td>Degrees Celsius</td>\n",
       "    </tr>\n",
       "    <tr>\n",
       "      <th>3</th>\n",
       "      <td>NaN</td>\n",
       "      <td>NaN</td>\n",
       "    </tr>\n",
       "    <tr>\n",
       "      <th>4</th>\n",
       "      <td>1880</td>\n",
       "      <td>13.72</td>\n",
       "    </tr>\n",
       "  </tbody>\n",
       "</table>\n",
       "</div>"
      ],
      "text/plain": [
       "  Average Global Temperature, 1880-2011       Unnamed: 1\n",
       "0                                   NaN              NaN\n",
       "1                                  Year      Temperature\n",
       "2                                   NaN  Degrees Celsius\n",
       "3                                   NaN              NaN\n",
       "4                                  1880            13.72"
      ]
     },
     "execution_count": 13,
     "metadata": {},
     "output_type": "execute_result"
    }
   ],
   "source": [
    "y.head()"
   ]
  },
  {
   "cell_type": "markdown",
   "metadata": {},
   "source": [
    "x1=population\n",
    "\n",
    "x2=green_house\n",
    "\n",
    "x3=sea_label\n",
    "\n",
    "\n",
    "y=earth's tem."
   ]
  },
  {
   "cell_type": "code",
   "execution_count": 15,
   "metadata": {},
   "outputs": [
    {
     "data": {
      "text/plain": [
       "0        1\n",
       "1     1000\n",
       "2     1500\n",
       "3     1650\n",
       "4     1750\n",
       "5     1804\n",
       "6     1850\n",
       "7     1900\n",
       "8     1927\n",
       "9     1950\n",
       "10    1955\n",
       "11    1960\n",
       "12    1965\n",
       "13    1970\n",
       "14    1975\n",
       "15    1980\n",
       "16    1985\n",
       "17    1990\n",
       "18    1995\n",
       "19    1999\n",
       "20    2006\n",
       "21    2009\n",
       "22    2011\n",
       "23    2025\n",
       "24    2043\n",
       "25    2083\n",
       "Name: Year, dtype: int64"
      ]
     },
     "execution_count": 15,
     "metadata": {},
     "output_type": "execute_result"
    }
   ],
   "source": [
    "x1[\"Year\"]"
   ]
  },
  {
   "cell_type": "code",
   "execution_count": 16,
   "metadata": {},
   "outputs": [
    {
     "data": {
      "text/plain": [
       "Index([  'Country Name',   'Country Code', 'Indicator Name', 'Indicator Code',\n",
       "                   1960,             1961,             1962,             1963,\n",
       "                   1964,             1965,             1966,             1967,\n",
       "                   1968,             1969,             1970,             1971,\n",
       "                   1972,             1973,             1974,             1975,\n",
       "                   1976,             1977,             1978,             1979,\n",
       "                   1980,             1981,             1982,             1983,\n",
       "                   1984,             1985,             1986,             1987,\n",
       "                   1988,             1989,             1990,             1991,\n",
       "                   1992,             1993,             1994,             1995,\n",
       "                   1996,             1997,             1998,             1999,\n",
       "                   2000,             2001,             2002,             2003,\n",
       "                   2004,             2005,             2006,             2007,\n",
       "                   2008,             2009,             2010,             2011,\n",
       "                   2012,             2013,             2014,             2015,\n",
       "                   2016,             2017],\n",
       "      dtype='object')"
      ]
     },
     "execution_count": 16,
     "metadata": {},
     "output_type": "execute_result"
    }
   ],
   "source": [
    "x21.index"
   ]
  },
  {
   "cell_type": "code",
   "execution_count": 17,
   "metadata": {},
   "outputs": [
    {
     "data": {
      "text/plain": [
       "0       1880.0417\n",
       "1       1880.1250\n",
       "2       1880.2083\n",
       "3       1880.2917\n",
       "4       1880.3750\n",
       "5       1880.4583\n",
       "6       1880.5417\n",
       "7       1880.6250\n",
       "8       1880.7083\n",
       "9       1880.7917\n",
       "10      1880.8750\n",
       "11      1880.9583\n",
       "12      1881.0417\n",
       "13      1881.1250\n",
       "14      1881.2083\n",
       "15      1881.2917\n",
       "16      1881.3750\n",
       "17      1881.4583\n",
       "18      1881.5417\n",
       "19      1881.6250\n",
       "20      1881.7083\n",
       "21      1881.7917\n",
       "22      1881.8750\n",
       "23      1881.9583\n",
       "24      1882.0417\n",
       "25      1882.1250\n",
       "26      1882.2083\n",
       "27      1882.2917\n",
       "28      1882.3750\n",
       "29      1882.4583\n",
       "          ...    \n",
       "1578    2011.5417\n",
       "1579    2011.6250\n",
       "1580    2011.7083\n",
       "1581    2011.7917\n",
       "1582    2011.8750\n",
       "1583    2011.9583\n",
       "1584    2012.0417\n",
       "1585    2012.1250\n",
       "1586    2012.2083\n",
       "1587    2012.2917\n",
       "1588    2012.3750\n",
       "1589    2012.4583\n",
       "1590    2012.5417\n",
       "1591    2012.6250\n",
       "1592    2012.7083\n",
       "1593    2012.7917\n",
       "1594    2012.8750\n",
       "1595    2012.9583\n",
       "1596    2013.0417\n",
       "1597    2013.1250\n",
       "1598    2013.2083\n",
       "1599    2013.2917\n",
       "1600    2013.3750\n",
       "1601    2013.4583\n",
       "1602    2013.5417\n",
       "1603    2013.6250\n",
       "1604    2013.7083\n",
       "1605    2013.7917\n",
       "1606    2013.8750\n",
       "1607    2013.9583\n",
       "Name: Time, Length: 1608, dtype: float64"
      ]
     },
     "execution_count": 17,
     "metadata": {},
     "output_type": "execute_result"
    }
   ],
   "source": [
    "(x3[\"Time\"])"
   ]
  },
  {
   "cell_type": "code",
   "execution_count": 18,
   "metadata": {},
   "outputs": [
    {
     "data": {
      "text/plain": [
       "0     NaN\n",
       "1    Year\n",
       "2     NaN\n",
       "3     NaN\n",
       "4    1880\n",
       "Name: Average Global Temperature, 1880-2011, dtype: object"
      ]
     },
     "execution_count": 18,
     "metadata": {},
     "output_type": "execute_result"
    }
   ],
   "source": [
    "y[\"Average Global Temperature, 1880-2011\"].head()"
   ]
  },
  {
   "cell_type": "markdown",
   "metadata": {},
   "source": [
    "# let us first of all analysise them one by one"
   ]
  },
  {
   "cell_type": "code",
   "execution_count": 14,
   "metadata": {},
   "outputs": [],
   "source": [
    "x11=x1.drop([\"Unnamed: 1\"],axis=1)"
   ]
  },
  {
   "cell_type": "code",
   "execution_count": 15,
   "metadata": {},
   "outputs": [],
   "source": [
    "x12=x11.drop(index=[0,1,2,3,4])"
   ]
  },
  {
   "cell_type": "code",
   "execution_count": 16,
   "metadata": {},
   "outputs": [
    {
     "data": {
      "text/plain": [
       "5        1 billion\n",
       "6      1.2 billion\n",
       "7      1.6 billion\n",
       "8        2 billion\n",
       "9     2.55 billion\n",
       "10     2.8 billion\n",
       "11       3 billion\n",
       "12     3.3 billion\n",
       "13     3.7 billion\n",
       "14       4 billion\n",
       "15     4.5 billion\n",
       "16    4.85 billion\n",
       "17     5.3 billion\n",
       "18     5.7 billion\n",
       "19       6 billion\n",
       "20     6.5 billion\n",
       "21     6.8 billion\n",
       "22       7 billion\n",
       "23       8 billion\n",
       "24       9 billion\n",
       "25      10 billion\n",
       "Name: Population, dtype: object"
      ]
     },
     "execution_count": 16,
     "metadata": {},
     "output_type": "execute_result"
    }
   ],
   "source": [
    "t1=x12[\"Population\"]\n",
    "t1"
   ]
  },
  {
   "cell_type": "code",
   "execution_count": 17,
   "metadata": {},
   "outputs": [
    {
     "data": {
      "text/plain": [
       "array([ 1.  ,  1.2 ,  1.6 ,  2.  ,  2.55,  2.8 ,  3.  ,  3.3 ,  3.7 ,\n",
       "        4.  ,  4.5 ,  4.85,  5.3 ,  5.7 ,  6.  ,  6.5 ,  6.8 ,  7.  ,\n",
       "        8.  ,  9.  , 10.  ])"
      ]
     },
     "execution_count": 17,
     "metadata": {},
     "output_type": "execute_result"
    }
   ],
   "source": [
    "k=[]\n",
    "for i in t1:\n",
    "    l= (len(i))\n",
    "    k=np.append(k,float(i[0:(l-8)]))\n",
    "k"
   ]
  },
  {
   "cell_type": "code",
   "execution_count": 18,
   "metadata": {},
   "outputs": [
    {
     "data": {
      "text/plain": [
       "Text(0, 0.5, 'population in billions')"
      ]
     },
     "execution_count": 18,
     "metadata": {},
     "output_type": "execute_result"
    },
    {
     "data": {
      "image/png": "[encoded data removed]",
      "text/plain": [
       "<Figure size 432x288 with 1 Axes>"
      ]
     },
     "metadata": {
      "needs_background": "light"
     },
     "output_type": "display_data"
    }
   ],
   "source": [
    "plt.plot(x12[\"Year\"],k,\"r\")\n",
    "#x12[\"Year\"].plot(kind=\"line\",figsize=(10,4))\n",
    "plt.title(\"Population of Earth\")\n",
    "plt.xlabel(\"Years\")\n",
    "plt.ylabel(\"population in billions\")\n",
    "#plt.legend([\"y\",\"z\"])"
   ]
  },
  {
   "cell_type": "markdown",
   "metadata": {},
   "source": [
    "so clearly after 1950 their was a trmendous increase in population after 1950 or it was a population explosion in year 1950"
   ]
  },
  {
   "cell_type": "code",
   "execution_count": 19,
   "metadata": {},
   "outputs": [
    {
     "data": {
      "text/html": [
       "<div>\n",
       "<style scoped>\n",
       "    .dataframe tbody tr th:only-of-type {\n",
       "        vertical-align: middle;\n",
       "    }\n",
       "\n",
       "    .dataframe tbody tr th {\n",
       "        vertical-align: top;\n",
       "    }\n",
       "\n",
       "    .dataframe thead th {\n",
       "        text-align: right;\n",
       "    }\n",
       "</style>\n",
       "<table border=\"1\" class=\"dataframe\">\n",
       "  <thead>\n",
       "    <tr style=\"text-align: right;\">\n",
       "      <th></th>\n",
       "      <th>Country Name</th>\n",
       "      <th>Country Code</th>\n",
       "      <th>Indicator Name</th>\n",
       "      <th>Indicator Code</th>\n",
       "      <th>1960</th>\n",
       "      <th>1961</th>\n",
       "      <th>1962</th>\n",
       "      <th>1963</th>\n",
       "      <th>1964</th>\n",
       "      <th>1965</th>\n",
       "      <th>...</th>\n",
       "      <th>2008</th>\n",
       "      <th>2009</th>\n",
       "      <th>2010</th>\n",
       "      <th>2011</th>\n",
       "      <th>2012</th>\n",
       "      <th>2013</th>\n",
       "      <th>2014</th>\n",
       "      <th>2015</th>\n",
       "      <th>2016</th>\n",
       "      <th>2017</th>\n",
       "    </tr>\n",
       "  </thead>\n",
       "  <tbody>\n",
       "    <tr>\n",
       "      <th>0</th>\n",
       "      <td>Aruba</td>\n",
       "      <td>ABW</td>\n",
       "      <td>Total greenhouse gas emissions (kt of CO2 equi...</td>\n",
       "      <td>EN.ATM.GHGT.KT.CE</td>\n",
       "      <td>NaN</td>\n",
       "      <td>NaN</td>\n",
       "      <td>NaN</td>\n",
       "      <td>NaN</td>\n",
       "      <td>NaN</td>\n",
       "      <td>NaN</td>\n",
       "      <td>...</td>\n",
       "      <td>NaN</td>\n",
       "      <td>NaN</td>\n",
       "      <td>NaN</td>\n",
       "      <td>NaN</td>\n",
       "      <td>NaN</td>\n",
       "      <td>NaN</td>\n",
       "      <td>NaN</td>\n",
       "      <td>NaN</td>\n",
       "      <td>NaN</td>\n",
       "      <td>NaN</td>\n",
       "    </tr>\n",
       "    <tr>\n",
       "      <th>1</th>\n",
       "      <td>Afghanistan</td>\n",
       "      <td>AFG</td>\n",
       "      <td>Total greenhouse gas emissions (kt of CO2 equi...</td>\n",
       "      <td>EN.ATM.GHGT.KT.CE</td>\n",
       "      <td>NaN</td>\n",
       "      <td>NaN</td>\n",
       "      <td>NaN</td>\n",
       "      <td>NaN</td>\n",
       "      <td>NaN</td>\n",
       "      <td>NaN</td>\n",
       "      <td>...</td>\n",
       "      <td>15288.8</td>\n",
       "      <td>15554.4</td>\n",
       "      <td>17791.3</td>\n",
       "      <td>17981.3</td>\n",
       "      <td>18168.9</td>\n",
       "      <td>NaN</td>\n",
       "      <td>NaN</td>\n",
       "      <td>NaN</td>\n",
       "      <td>NaN</td>\n",
       "      <td>NaN</td>\n",
       "    </tr>\n",
       "    <tr>\n",
       "      <th>2</th>\n",
       "      <td>Angola</td>\n",
       "      <td>AGO</td>\n",
       "      <td>Total greenhouse gas emissions (kt of CO2 equi...</td>\n",
       "      <td>EN.ATM.GHGT.KT.CE</td>\n",
       "      <td>NaN</td>\n",
       "      <td>NaN</td>\n",
       "      <td>NaN</td>\n",
       "      <td>NaN</td>\n",
       "      <td>NaN</td>\n",
       "      <td>NaN</td>\n",
       "      <td>...</td>\n",
       "      <td>37396.3</td>\n",
       "      <td>38309.5</td>\n",
       "      <td>40029.4</td>\n",
       "      <td>40878.7</td>\n",
       "      <td>41657.2</td>\n",
       "      <td>NaN</td>\n",
       "      <td>NaN</td>\n",
       "      <td>NaN</td>\n",
       "      <td>NaN</td>\n",
       "      <td>NaN</td>\n",
       "    </tr>\n",
       "  </tbody>\n",
       "</table>\n",
       "<p>3 rows × 62 columns</p>\n",
       "</div>"
      ],
      "text/plain": [
       "  Country Name Country Code  \\\n",
       "0        Aruba          ABW   \n",
       "1  Afghanistan          AFG   \n",
       "2       Angola          AGO   \n",
       "\n",
       "                                      Indicator Name     Indicator Code 1960  \\\n",
       "0  Total greenhouse gas emissions (kt of CO2 equi...  EN.ATM.GHGT.KT.CE  NaN   \n",
       "1  Total greenhouse gas emissions (kt of CO2 equi...  EN.ATM.GHGT.KT.CE  NaN   \n",
       "2  Total greenhouse gas emissions (kt of CO2 equi...  EN.ATM.GHGT.KT.CE  NaN   \n",
       "\n",
       "  1961 1962 1963 1964 1965 ...      2008     2009     2010     2011     2012  \\\n",
       "0  NaN  NaN  NaN  NaN  NaN ...       NaN      NaN      NaN      NaN      NaN   \n",
       "1  NaN  NaN  NaN  NaN  NaN ...   15288.8  15554.4  17791.3  17981.3  18168.9   \n",
       "2  NaN  NaN  NaN  NaN  NaN ...   37396.3  38309.5  40029.4  40878.7  41657.2   \n",
       "\n",
       "  2013 2014 2015 2016 2017  \n",
       "0  NaN  NaN  NaN  NaN  NaN  \n",
       "1  NaN  NaN  NaN  NaN  NaN  \n",
       "2  NaN  NaN  NaN  NaN  NaN  \n",
       "\n",
       "[3 rows x 62 columns]"
      ]
     },
     "execution_count": 19,
     "metadata": {},
     "output_type": "execute_result"
    }
   ],
   "source": [
    "x22=x21.T\n",
    "x22.head(3)"
   ]
  },
  {
   "cell_type": "code",
   "execution_count": 20,
   "metadata": {},
   "outputs": [],
   "source": [
    "x23=x22.fillna(0)"
   ]
  },
  {
   "cell_type": "code",
   "execution_count": 21,
   "metadata": {},
   "outputs": [],
   "source": [
    "#sum(x23[index1[0]])\n",
    "ye=x23.columns[4:len(x22.index)]"
   ]
  },
  {
   "cell_type": "code",
   "execution_count": 22,
   "metadata": {},
   "outputs": [],
   "source": [
    "k2=[]\n",
    "for i in x23.columns[4:len(x22.index)]:\n",
    "    j=0\n",
    "    #j1=index1\n",
    "    k2=np.append(k2,sum(x23[i]))\n",
    "    j=j+1"
   ]
  },
  {
   "cell_type": "code",
   "execution_count": 23,
   "metadata": {},
   "outputs": [],
   "source": [
    "k3=np.where(k2!=0,k2,np.nan)"
   ]
  },
  {
   "cell_type": "code",
   "execution_count": 24,
   "metadata": {},
   "outputs": [
    {
     "data": {
      "text/plain": [
       "Text(0, 0.5, 'green_house gas in multiple of 1000000')"
      ]
     },
     "execution_count": 24,
     "metadata": {},
     "output_type": "execute_result"
    },
    {
     "data": {
      "image/png": "[encoded data removed]",
      "text/plain": [
       "<Figure size 432x288 with 1 Axes>"
      ]
     },
     "metadata": {
      "needs_background": "light"
     },
     "output_type": "display_data"
    }
   ],
   "source": [
    "plt.plot(ye,k3/1000000,\"g\")\n",
    "plt.title(\"increase in green house\")\n",
    "plt.xlabel(\"years\")\n",
    "plt.ylabel(\"green_house gas in multiple of 1000000\")"
   ]
  },
  {
   "cell_type": "markdown",
   "metadata": {},
   "source": [
    "the increae in green_house gas \n",
    "\n",
    "a note worty thing is that there is a cycle of increse and decrese in the green_house gas,this means there are some factors which are natural as well in the increase of green house gas"
   ]
  },
  {
   "cell_type": "code",
   "execution_count": 25,
   "metadata": {},
   "outputs": [],
   "source": [
    "k4=[]\n",
    "for i in x3[\"Time\"]:\n",
    "    k4=np.append(k3,int(i))"
   ]
  },
  {
   "cell_type": "code",
   "execution_count": 26,
   "metadata": {},
   "outputs": [
    {
     "data": {
      "text/html": [
       "<div>\n",
       "<style scoped>\n",
       "    .dataframe tbody tr th:only-of-type {\n",
       "        vertical-align: middle;\n",
       "    }\n",
       "\n",
       "    .dataframe tbody tr th {\n",
       "        vertical-align: top;\n",
       "    }\n",
       "\n",
       "    .dataframe thead th {\n",
       "        text-align: right;\n",
       "    }\n",
       "</style>\n",
       "<table border=\"1\" class=\"dataframe\">\n",
       "  <thead>\n",
       "    <tr style=\"text-align: right;\">\n",
       "      <th></th>\n",
       "      <th>Time</th>\n",
       "      <th>GMSL (mm)</th>\n",
       "      <th>GMSL uncertainty (mm)</th>\n",
       "    </tr>\n",
       "  </thead>\n",
       "  <tbody>\n",
       "    <tr>\n",
       "      <th>1603</th>\n",
       "      <td>2013.6250</td>\n",
       "      <td>71.6</td>\n",
       "      <td>8.8</td>\n",
       "    </tr>\n",
       "    <tr>\n",
       "      <th>1604</th>\n",
       "      <td>2013.7083</td>\n",
       "      <td>68.8</td>\n",
       "      <td>8.8</td>\n",
       "    </tr>\n",
       "    <tr>\n",
       "      <th>1605</th>\n",
       "      <td>2013.7917</td>\n",
       "      <td>66.4</td>\n",
       "      <td>8.9</td>\n",
       "    </tr>\n",
       "    <tr>\n",
       "      <th>1606</th>\n",
       "      <td>2013.8750</td>\n",
       "      <td>59.7</td>\n",
       "      <td>9.0</td>\n",
       "    </tr>\n",
       "    <tr>\n",
       "      <th>1607</th>\n",
       "      <td>2013.9583</td>\n",
       "      <td>58.5</td>\n",
       "      <td>9.0</td>\n",
       "    </tr>\n",
       "  </tbody>\n",
       "</table>\n",
       "</div>"
      ],
      "text/plain": [
       "           Time  GMSL (mm)  GMSL uncertainty (mm)\n",
       "1603  2013.6250       71.6                    8.8\n",
       "1604  2013.7083       68.8                    8.8\n",
       "1605  2013.7917       66.4                    8.9\n",
       "1606  2013.8750       59.7                    9.0\n",
       "1607  2013.9583       58.5                    9.0"
      ]
     },
     "execution_count": 26,
     "metadata": {},
     "output_type": "execute_result"
    }
   ],
   "source": [
    "x3.tail()"
   ]
  },
  {
   "cell_type": "code",
   "execution_count": 27,
   "metadata": {},
   "outputs": [],
   "source": [
    "k5=k4[1:len(k4)]"
   ]
  },
  {
   "cell_type": "code",
   "execution_count": 32,
   "metadata": {},
   "outputs": [],
   "source": [
    "#(x3[\"GMSL (mm)\"])"
   ]
  },
  {
   "cell_type": "code",
   "execution_count": 28,
   "metadata": {},
   "outputs": [
    {
     "data": {
      "text/plain": [
       "Text(0, 0.5, 'sea label with year 1980 as base')"
      ]
     },
     "execution_count": 28,
     "metadata": {},
     "output_type": "execute_result"
    },
    {
     "data": {
      "image/png": "[encoded data removed]",
      "text/plain": [
       "<Figure size 432x288 with 1 Axes>"
      ]
     },
     "metadata": {
      "needs_background": "light"
     },
     "output_type": "display_data"
    }
   ],
   "source": [
    "plt.plot(x3[\"Time\"],x3[\"GMSL (mm)\"],\"b\")\n",
    "plt.title(\"increase in sea label\")\n",
    "plt.xlabel(\"years\")\n",
    "plt.ylabel(\"sea label with year 1980 as base\")"
   ]
  },
  {
   "cell_type": "code",
   "execution_count": 29,
   "metadata": {},
   "outputs": [],
   "source": [
    "x3.index=x3[\"Time\"]"
   ]
  },
  {
   "cell_type": "code",
   "execution_count": 30,
   "metadata": {},
   "outputs": [
    {
     "data": {
      "text/plain": [
       "Text(0, 0.5, 'sea label with year 1980 as base')"
      ]
     },
     "execution_count": 30,
     "metadata": {},
     "output_type": "execute_result"
    },
    {
     "data": {
      "image/png": "[encoded data removed]",
      "text/plain": [
       "<Figure size 1800x720 with 1 Axes>"
      ]
     },
     "metadata": {
      "needs_background": "light"
     },
     "output_type": "display_data"
    }
   ],
   "source": [
    "x3[\"GMSL (mm)\"].plot(figsize=(25,10),label=True,alpha=1,color=\"blue\")\n",
    "plt.title(\"increase in sea label\")\n",
    "plt.xlabel(\"years\")\n",
    "plt.ylabel(\"sea label with year 1980 as base\")"
   ]
  },
  {
   "cell_type": "code",
   "execution_count": 31,
   "metadata": {},
   "outputs": [
    {
     "name": "stderr",
     "output_type": "stream",
     "text": [
      "c:\\users\\dell\\appdata\\local\\programs\\python\\python37\\lib\\site-packages\\scipy\\stats\\stats.py:1713: FutureWarning: Using a non-tuple sequence for multidimensional indexing is deprecated; use `arr[tuple(seq)]` instead of `arr[seq]`. In the future this will be interpreted as an array index, `arr[np.array(seq)]`, which will result either in an error or a different result.\n",
      "  return np.add.reduce(sorted[indexer] * weights, axis=axis) / sumval\n"
     ]
    },
    {
     "data": {
      "text/plain": [
       "Text(0.5, 6.799999999999994, 'years')"
      ]
     },
     "execution_count": 31,
     "metadata": {},
     "output_type": "execute_result"
    },
    {
     "data": {
      "image/png": "[encoded data removed]",
      "text/plain": [
       "<Figure size 360x360 with 1 Axes>"
      ]
     },
     "metadata": {
      "needs_background": "light"
     },
     "output_type": "display_data"
    }
   ],
   "source": [
    "sns.lmplot(\"Time\",\"GMSL (mm)\",x3,scatter=None,order=2)\n",
    "plt.xlabel(\"years\")"
   ]
  },
  {
   "cell_type": "code",
   "execution_count": 32,
   "metadata": {},
   "outputs": [
    {
     "data": {
      "text/plain": [
       "Text(0.5, 6.799999999999994, 'years')"
      ]
     },
     "execution_count": 32,
     "metadata": {},
     "output_type": "execute_result"
    },
    {
     "data": {
      "image/png": "[encoded data removed]",
      "text/plain": [
       "<Figure size 360x360 with 1 Axes>"
      ]
     },
     "metadata": {
      "needs_background": "light"
     },
     "output_type": "display_data"
    }
   ],
   "source": [
    "sns.lmplot(\"Time\",\"GMSL uncertainty (mm)\",x3,scatter=None,order=2)\n",
    "plt.xlabel(\"years\")"
   ]
  },
  {
   "cell_type": "markdown",
   "metadata": {},
   "source": [
    "yes their is a growth in the sea label but it's not increasing so trmendously in last few years as assumed,and as the variablity being low their is a little cause to worry"
   ]
  },
  {
   "cell_type": "code",
   "execution_count": 126,
   "metadata": {},
   "outputs": [],
   "source": [
    "y1=y[4:(len(y)-2)]"
   ]
  },
  {
   "cell_type": "code",
   "execution_count": 127,
   "metadata": {},
   "outputs": [
    {
     "data": {
      "text/html": [
       "<div>\n",
       "<style scoped>\n",
       "    .dataframe tbody tr th:only-of-type {\n",
       "        vertical-align: middle;\n",
       "    }\n",
       "\n",
       "    .dataframe tbody tr th {\n",
       "        vertical-align: top;\n",
       "    }\n",
       "\n",
       "    .dataframe thead th {\n",
       "        text-align: right;\n",
       "    }\n",
       "</style>\n",
       "<table border=\"1\" class=\"dataframe\">\n",
       "  <thead>\n",
       "    <tr style=\"text-align: right;\">\n",
       "      <th></th>\n",
       "      <th>Average Global Temperature, 1880-2011</th>\n",
       "      <th>Unnamed: 1</th>\n",
       "    </tr>\n",
       "  </thead>\n",
       "  <tbody>\n",
       "    <tr>\n",
       "      <th>4</th>\n",
       "      <td>1880</td>\n",
       "      <td>13.72</td>\n",
       "    </tr>\n",
       "    <tr>\n",
       "      <th>5</th>\n",
       "      <td>1881</td>\n",
       "      <td>13.8</td>\n",
       "    </tr>\n",
       "    <tr>\n",
       "      <th>6</th>\n",
       "      <td>1882</td>\n",
       "      <td>13.74</td>\n",
       "    </tr>\n",
       "    <tr>\n",
       "      <th>7</th>\n",
       "      <td>1883</td>\n",
       "      <td>13.73</td>\n",
       "    </tr>\n",
       "    <tr>\n",
       "      <th>8</th>\n",
       "      <td>1884</td>\n",
       "      <td>13.69</td>\n",
       "    </tr>\n",
       "  </tbody>\n",
       "</table>\n",
       "</div>"
      ],
      "text/plain": [
       "  Average Global Temperature, 1880-2011 Unnamed: 1\n",
       "4                                  1880      13.72\n",
       "5                                  1881       13.8\n",
       "6                                  1882      13.74\n",
       "7                                  1883      13.73\n",
       "8                                  1884      13.69"
      ]
     },
     "execution_count": 127,
     "metadata": {},
     "output_type": "execute_result"
    }
   ],
   "source": [
    "y1.head()"
   ]
  },
  {
   "cell_type": "code",
   "execution_count": 128,
   "metadata": {},
   "outputs": [],
   "source": [
    "y1.index=y1[\"Average Global Temperature, 1880-2011\"]"
   ]
  },
  {
   "cell_type": "code",
   "execution_count": 129,
   "metadata": {},
   "outputs": [
    {
     "data": {
      "text/html": [
       "<div>\n",
       "<style scoped>\n",
       "    .dataframe tbody tr th:only-of-type {\n",
       "        vertical-align: middle;\n",
       "    }\n",
       "\n",
       "    .dataframe tbody tr th {\n",
       "        vertical-align: top;\n",
       "    }\n",
       "\n",
       "    .dataframe thead th {\n",
       "        text-align: right;\n",
       "    }\n",
       "</style>\n",
       "<table border=\"1\" class=\"dataframe\">\n",
       "  <thead>\n",
       "    <tr style=\"text-align: right;\">\n",
       "      <th></th>\n",
       "      <th>Unnamed: 1</th>\n",
       "    </tr>\n",
       "    <tr>\n",
       "      <th>Average Global Temperature, 1880-2011</th>\n",
       "      <th></th>\n",
       "    </tr>\n",
       "  </thead>\n",
       "  <tbody>\n",
       "    <tr>\n",
       "      <th>1880</th>\n",
       "      <td>13.72</td>\n",
       "    </tr>\n",
       "    <tr>\n",
       "      <th>1881</th>\n",
       "      <td>13.8</td>\n",
       "    </tr>\n",
       "    <tr>\n",
       "      <th>1882</th>\n",
       "      <td>13.74</td>\n",
       "    </tr>\n",
       "    <tr>\n",
       "      <th>1883</th>\n",
       "      <td>13.73</td>\n",
       "    </tr>\n",
       "    <tr>\n",
       "      <th>1884</th>\n",
       "      <td>13.69</td>\n",
       "    </tr>\n",
       "  </tbody>\n",
       "</table>\n",
       "</div>"
      ],
      "text/plain": [
       "                                      Unnamed: 1\n",
       "Average Global Temperature, 1880-2011           \n",
       "1880                                       13.72\n",
       "1881                                        13.8\n",
       "1882                                       13.74\n",
       "1883                                       13.73\n",
       "1884                                       13.69"
      ]
     },
     "execution_count": 129,
     "metadata": {},
     "output_type": "execute_result"
    }
   ],
   "source": [
    "y1.drop([\"Average Global Temperature, 1880-2011\"],axis=1).head()"
   ]
  },
  {
   "cell_type": "code",
   "execution_count": 130,
   "metadata": {},
   "outputs": [
    {
     "data": {
      "text/plain": [
       "Average Global Temperature, 1880-2011\n",
       "1880    13.72\n",
       "1881     13.8\n",
       "1882    13.74\n",
       "1883    13.73\n",
       "1884    13.69\n",
       "Name: Unnamed: 1, dtype: object"
      ]
     },
     "execution_count": 130,
     "metadata": {},
     "output_type": "execute_result"
    }
   ],
   "source": [
    "y1[\"Unnamed: 1\"].head()"
   ]
  },
  {
   "cell_type": "code",
   "execution_count": 175,
   "metadata": {},
   "outputs": [
    {
     "data": {
      "text/html": [
       "<div>\n",
       "<style scoped>\n",
       "    .dataframe tbody tr th:only-of-type {\n",
       "        vertical-align: middle;\n",
       "    }\n",
       "\n",
       "    .dataframe tbody tr th {\n",
       "        vertical-align: top;\n",
       "    }\n",
       "\n",
       "    .dataframe thead th {\n",
       "        text-align: right;\n",
       "    }\n",
       "</style>\n",
       "<table border=\"1\" class=\"dataframe\">\n",
       "  <thead>\n",
       "    <tr style=\"text-align: right;\">\n",
       "      <th></th>\n",
       "      <th>Average Global Temperature, 1880-2011</th>\n",
       "      <th>Unnamed: 1</th>\n",
       "      <th>year</th>\n",
       "    </tr>\n",
       "  </thead>\n",
       "  <tbody>\n",
       "    <tr>\n",
       "      <th>0</th>\n",
       "      <td>1880</td>\n",
       "      <td>13.72</td>\n",
       "      <td>1880</td>\n",
       "    </tr>\n",
       "    <tr>\n",
       "      <th>1</th>\n",
       "      <td>1881</td>\n",
       "      <td>13.8</td>\n",
       "      <td>1881</td>\n",
       "    </tr>\n",
       "    <tr>\n",
       "      <th>2</th>\n",
       "      <td>1882</td>\n",
       "      <td>13.74</td>\n",
       "      <td>1882</td>\n",
       "    </tr>\n",
       "    <tr>\n",
       "      <th>3</th>\n",
       "      <td>1883</td>\n",
       "      <td>13.73</td>\n",
       "      <td>1883</td>\n",
       "    </tr>\n",
       "    <tr>\n",
       "      <th>4</th>\n",
       "      <td>1884</td>\n",
       "      <td>13.69</td>\n",
       "      <td>1884</td>\n",
       "    </tr>\n",
       "  </tbody>\n",
       "</table>\n",
       "</div>"
      ],
      "text/plain": [
       "  Average Global Temperature, 1880-2011 Unnamed: 1  year\n",
       "0                                  1880      13.72  1880\n",
       "1                                  1881       13.8  1881\n",
       "2                                  1882      13.74  1882\n",
       "3                                  1883      13.73  1883\n",
       "4                                  1884      13.69  1884"
      ]
     },
     "execution_count": 175,
     "metadata": {},
     "output_type": "execute_result"
    }
   ],
   "source": [
    "y1.head()"
   ]
  },
  {
   "cell_type": "code",
   "execution_count": 172,
   "metadata": {},
   "outputs": [
    {
     "data": {
      "text/plain": [
       "Text(0, 0.5, 'Average Temprature of Earth')"
      ]
     },
     "execution_count": 172,
     "metadata": {},
     "output_type": "execute_result"
    },
    {
     "data": {
      "image/png": "[encoded data removed]",
      "text/plain": [
       "<Figure size 720x720 with 1 Axes>"
      ]
     },
     "metadata": {
      "needs_background": "light"
     },
     "output_type": "display_data"
    }
   ],
   "source": [
    "y1[\"Unnamed: 1\"].plot(figsize=(10,10),label=True,alpha=1,color=\"Red\")\n",
    "plt.title(\"increase in temperature of earth\")\n",
    "plt.xlabel(\"years\")\n",
    "plt.ylabel(\"Average Temprature of Earth\")"
   ]
  },
  {
   "cell_type": "code",
   "execution_count": 169,
   "metadata": {},
   "outputs": [
    {
     "data": {
      "text/plain": [
       "Text(0, 0.5, 'Average Temprature of Earth')"
      ]
     },
     "execution_count": 169,
     "metadata": {},
     "output_type": "execute_result"
    },
    {
     "data": {
      "image/png": "[encoded data removed]",
      "text/plain": [
       "<Figure size 720x720 with 1 Axes>"
      ]
     },
     "metadata": {
      "needs_background": "light"
     },
     "output_type": "display_data"
    }
   ],
   "source": [
    "y1[\"Unnamed: 1\"].plot(figsize=(10,10),label=True,alpha=1,color=\"Red\",xlim=(\"1880\",\"1970\"))\n",
    "plt.title(\"increase in temperature of earth between 1880 to 1970 (90years)\")\n",
    "plt.xlabel(\"years\")\n",
    "plt.ylabel(\"Average Temprature of Earth\")"
   ]
  },
  {
   "cell_type": "code",
   "execution_count": 170,
   "metadata": {},
   "outputs": [
    {
     "data": {
      "text/plain": [
       "Text(0, 0.5, 'Average Temprature of Earth')"
      ]
     },
     "execution_count": 170,
     "metadata": {},
     "output_type": "execute_result"
    },
    {
     "data": {
      "image/png": "[encoded data removed]",
      "text/plain": [
       "<Figure size 720x720 with 1 Axes>"
      ]
     },
     "metadata": {
      "needs_background": "light"
     },
     "output_type": "display_data"
    }
   ],
   "source": [
    "y1[\"Unnamed: 1\"].plot(figsize=(10,10),label=True,alpha=1,color=\"Red\",xlim=(\"1970\",\"2011\"))\n",
    "plt.title(\"increase in temperature of earth between 1970 to 2011 (41 years)\")\n",
    "plt.xlabel(\"years\")\n",
    "plt.ylabel(\"Average Temprature of Earth\")"
   ]
  },
  {
   "cell_type": "markdown",
   "metadata": {},
   "source": [
    "for an increase of .1 degree it took 90 years in first graph but in second graph the same increase of .1 degree was obseved in 41 years \n",
    "\n",
    "intrestingly that time is even less than the half of the time taken before for the increae of .1 degree\n",
    "\n",
    "\n",
    "Thus the earth is warming at a double rate since the past years,thus we can clearly visualise the effect of global warming"
   ]
  },
  {
   "cell_type": "code",
   "execution_count": 133,
   "metadata": {},
   "outputs": [
    {
     "data": {
      "text/plain": [
       "Text(0, 0.5, 'Average Temprature')"
      ]
     },
     "execution_count": 133,
     "metadata": {},
     "output_type": "execute_result"
    },
    {
     "data": {
      "image/png": "[encoded data removed]",
      "text/plain": [
       "<Figure size 432x288 with 1 Axes>"
      ]
     },
     "metadata": {
      "needs_background": "light"
     },
     "output_type": "display_data"
    }
   ],
   "source": [
    "plt.plot(y1.index,y1[\"Unnamed: 1\"],\"r\")\n",
    "plt.title(\"increase in temprature of earth\")\n",
    "plt.xlabel(\"years\")\n",
    "plt.ylabel(\"Average Temprature\")"
   ]
  },
  {
   "cell_type": "code",
   "execution_count": null,
   "metadata": {},
   "outputs": [],
   "source": []
  },
  {
   "cell_type": "code",
   "execution_count": 134,
   "metadata": {},
   "outputs": [],
   "source": [
    "k5=((y1[\"Average Global Temperature, 1880-2011\"]).values)"
   ]
  },
  {
   "cell_type": "code",
   "execution_count": 135,
   "metadata": {},
   "outputs": [
    {
     "data": {
      "text/html": [
       "<div>\n",
       "<style scoped>\n",
       "    .dataframe tbody tr th:only-of-type {\n",
       "        vertical-align: middle;\n",
       "    }\n",
       "\n",
       "    .dataframe tbody tr th {\n",
       "        vertical-align: top;\n",
       "    }\n",
       "\n",
       "    .dataframe thead th {\n",
       "        text-align: right;\n",
       "    }\n",
       "</style>\n",
       "<table border=\"1\" class=\"dataframe\">\n",
       "  <thead>\n",
       "    <tr style=\"text-align: right;\">\n",
       "      <th></th>\n",
       "      <th>Average Global Temperature, 1880-2011</th>\n",
       "      <th>Unnamed: 1</th>\n",
       "    </tr>\n",
       "  </thead>\n",
       "  <tbody>\n",
       "    <tr>\n",
       "      <th>0</th>\n",
       "      <td>1880</td>\n",
       "      <td>13.72</td>\n",
       "    </tr>\n",
       "    <tr>\n",
       "      <th>1</th>\n",
       "      <td>1881</td>\n",
       "      <td>13.8</td>\n",
       "    </tr>\n",
       "    <tr>\n",
       "      <th>2</th>\n",
       "      <td>1882</td>\n",
       "      <td>13.74</td>\n",
       "    </tr>\n",
       "    <tr>\n",
       "      <th>3</th>\n",
       "      <td>1883</td>\n",
       "      <td>13.73</td>\n",
       "    </tr>\n",
       "    <tr>\n",
       "      <th>4</th>\n",
       "      <td>1884</td>\n",
       "      <td>13.69</td>\n",
       "    </tr>\n",
       "  </tbody>\n",
       "</table>\n",
       "</div>"
      ],
      "text/plain": [
       "  Average Global Temperature, 1880-2011 Unnamed: 1\n",
       "0                                  1880      13.72\n",
       "1                                  1881       13.8\n",
       "2                                  1882      13.74\n",
       "3                                  1883      13.73\n",
       "4                                  1884      13.69"
      ]
     },
     "execution_count": 135,
     "metadata": {},
     "output_type": "execute_result"
    }
   ],
   "source": [
    "y1.index=np.arange(len(y1.index))\n",
    "y1.head()"
   ]
  },
  {
   "cell_type": "code",
   "execution_count": 136,
   "metadata": {},
   "outputs": [],
   "source": [
    "k5=y1[\"Average Global Temperature, 1880-2011\"].values"
   ]
  },
  {
   "cell_type": "code",
   "execution_count": 137,
   "metadata": {},
   "outputs": [],
   "source": [
    "k6=np.arange(1880,2012,1)"
   ]
  },
  {
   "cell_type": "code",
   "execution_count": 138,
   "metadata": {},
   "outputs": [
    {
     "data": {
      "text/html": [
       "<div>\n",
       "<style scoped>\n",
       "    .dataframe tbody tr th:only-of-type {\n",
       "        vertical-align: middle;\n",
       "    }\n",
       "\n",
       "    .dataframe tbody tr th {\n",
       "        vertical-align: top;\n",
       "    }\n",
       "\n",
       "    .dataframe thead th {\n",
       "        text-align: right;\n",
       "    }\n",
       "</style>\n",
       "<table border=\"1\" class=\"dataframe\">\n",
       "  <thead>\n",
       "    <tr style=\"text-align: right;\">\n",
       "      <th></th>\n",
       "      <th>Average Global Temperature, 1880-2011</th>\n",
       "      <th>Unnamed: 1</th>\n",
       "    </tr>\n",
       "  </thead>\n",
       "  <tbody>\n",
       "    <tr>\n",
       "      <th>127</th>\n",
       "      <td>2007</td>\n",
       "      <td>14.58</td>\n",
       "    </tr>\n",
       "    <tr>\n",
       "      <th>128</th>\n",
       "      <td>2008</td>\n",
       "      <td>14.44</td>\n",
       "    </tr>\n",
       "    <tr>\n",
       "      <th>129</th>\n",
       "      <td>2009</td>\n",
       "      <td>14.57</td>\n",
       "    </tr>\n",
       "    <tr>\n",
       "      <th>130</th>\n",
       "      <td>2010</td>\n",
       "      <td>14.63</td>\n",
       "    </tr>\n",
       "    <tr>\n",
       "      <th>131</th>\n",
       "      <td>2011</td>\n",
       "      <td>14.52</td>\n",
       "    </tr>\n",
       "  </tbody>\n",
       "</table>\n",
       "</div>"
      ],
      "text/plain": [
       "    Average Global Temperature, 1880-2011 Unnamed: 1\n",
       "127                                  2007      14.58\n",
       "128                                  2008      14.44\n",
       "129                                  2009      14.57\n",
       "130                                  2010      14.63\n",
       "131                                  2011      14.52"
      ]
     },
     "execution_count": 138,
     "metadata": {},
     "output_type": "execute_result"
    }
   ],
   "source": [
    "y1.tail()"
   ]
  },
  {
   "cell_type": "code",
   "execution_count": 139,
   "metadata": {},
   "outputs": [
    {
     "name": "stderr",
     "output_type": "stream",
     "text": [
      "c:\\users\\dell\\appdata\\local\\programs\\python\\python37\\lib\\site-packages\\ipykernel_launcher.py:1: SettingWithCopyWarning: \n",
      "A value is trying to be set on a copy of a slice from a DataFrame.\n",
      "Try using .loc[row_indexer,col_indexer] = value instead\n",
      "\n",
      "See the caveats in the documentation: http://pandas.pydata.org/pandas-docs/stable/indexing.html#indexing-view-versus-copy\n",
      "  \"\"\"Entry point for launching an IPython kernel.\n"
     ]
    }
   ],
   "source": [
    "y1[\"year\"]=k6"
   ]
  },
  {
   "cell_type": "code",
   "execution_count": 152,
   "metadata": {},
   "outputs": [
    {
     "data": {
      "text/html": [
       "<div>\n",
       "<style scoped>\n",
       "    .dataframe tbody tr th:only-of-type {\n",
       "        vertical-align: middle;\n",
       "    }\n",
       "\n",
       "    .dataframe tbody tr th {\n",
       "        vertical-align: top;\n",
       "    }\n",
       "\n",
       "    .dataframe thead th {\n",
       "        text-align: right;\n",
       "    }\n",
       "</style>\n",
       "<table border=\"1\" class=\"dataframe\">\n",
       "  <thead>\n",
       "    <tr style=\"text-align: right;\">\n",
       "      <th></th>\n",
       "      <th>Average Global Temperature, 1880-2011</th>\n",
       "      <th>Unnamed: 1</th>\n",
       "      <th>year</th>\n",
       "    </tr>\n",
       "  </thead>\n",
       "  <tbody>\n",
       "    <tr>\n",
       "      <th>0</th>\n",
       "      <td>1880</td>\n",
       "      <td>13.72</td>\n",
       "      <td>1880</td>\n",
       "    </tr>\n",
       "    <tr>\n",
       "      <th>1</th>\n",
       "      <td>1881</td>\n",
       "      <td>13.8</td>\n",
       "      <td>1881</td>\n",
       "    </tr>\n",
       "    <tr>\n",
       "      <th>2</th>\n",
       "      <td>1882</td>\n",
       "      <td>13.74</td>\n",
       "      <td>1882</td>\n",
       "    </tr>\n",
       "    <tr>\n",
       "      <th>3</th>\n",
       "      <td>1883</td>\n",
       "      <td>13.73</td>\n",
       "      <td>1883</td>\n",
       "    </tr>\n",
       "    <tr>\n",
       "      <th>4</th>\n",
       "      <td>1884</td>\n",
       "      <td>13.69</td>\n",
       "      <td>1884</td>\n",
       "    </tr>\n",
       "  </tbody>\n",
       "</table>\n",
       "</div>"
      ],
      "text/plain": [
       "  Average Global Temperature, 1880-2011 Unnamed: 1  year\n",
       "0                                  1880      13.72  1880\n",
       "1                                  1881       13.8  1881\n",
       "2                                  1882      13.74  1882\n",
       "3                                  1883      13.73  1883\n",
       "4                                  1884      13.69  1884"
      ]
     },
     "execution_count": 152,
     "metadata": {},
     "output_type": "execute_result"
    }
   ],
   "source": [
    "y1.head()"
   ]
  },
  {
   "cell_type": "code",
   "execution_count": 158,
   "metadata": {},
   "outputs": [
    {
     "data": {
      "text/plain": [
       "<seaborn.axisgrid.FacetGrid at 0x1cbf05f2940>"
      ]
     },
     "execution_count": 158,
     "metadata": {},
     "output_type": "execute_result"
    },
    {
     "data": {
      "image/png": "[encoded data removed]",
      "text/plain": [
       "<Figure size 360x360 with 1 Axes>"
      ]
     },
     "metadata": {
      "needs_background": "light"
     },
     "output_type": "display_data"
    }
   ],
   "source": [
    "sns.lmplot(\"year\",\"Unnamed: 1\",y1,scatter=None,lowess=True)"
   ]
  },
  {
   "cell_type": "markdown",
   "metadata": {},
   "source": [
    "clearly their was the increase in the temperature of earth after year 1970"
   ]
  },
  {
   "cell_type": "markdown",
   "metadata": {},
   "source": [
    "# pair wise study"
   ]
  },
  {
   "cell_type": "markdown",
   "metadata": {},
   "source": [
    "pop and temp"
   ]
  },
  {
   "cell_type": "markdown",
   "metadata": {},
   "source": [
    "k8"
   ]
  },
  {
   "cell_type": "markdown",
   "metadata": {},
   "source": [
    "for i in y1[\"year\"]:\n",
    "     j=0\n",
    "    if i==k[j]:\n",
    "        "
   ]
  },
  {
   "cell_type": "code",
   "execution_count": 36,
   "metadata": {},
   "outputs": [],
   "source": [
    "y2=y[4:(len(y[\"Unnamed: 1\"])-2)]"
   ]
  },
  {
   "cell_type": "code",
   "execution_count": 37,
   "metadata": {},
   "outputs": [
    {
     "name": "stderr",
     "output_type": "stream",
     "text": [
      "c:\\users\\dell\\appdata\\local\\programs\\python\\python37\\lib\\site-packages\\ipykernel_launcher.py:1: SettingWithCopyWarning: \n",
      "A value is trying to be set on a copy of a slice from a DataFrame.\n",
      "Try using .loc[row_indexer,col_indexer] = value instead\n",
      "\n",
      "See the caveats in the documentation: http://pandas.pydata.org/pandas-docs/stable/indexing.html#indexing-view-versus-copy\n",
      "  \"\"\"Entry point for launching an IPython kernel.\n"
     ]
    }
   ],
   "source": [
    "y2[\"year\"]=np.arange(1880,2012,1)"
   ]
  },
  {
   "cell_type": "code",
   "execution_count": 38,
   "metadata": {},
   "outputs": [
    {
     "data": {
      "text/html": [
       "<div>\n",
       "<style scoped>\n",
       "    .dataframe tbody tr th:only-of-type {\n",
       "        vertical-align: middle;\n",
       "    }\n",
       "\n",
       "    .dataframe tbody tr th {\n",
       "        vertical-align: top;\n",
       "    }\n",
       "\n",
       "    .dataframe thead th {\n",
       "        text-align: right;\n",
       "    }\n",
       "</style>\n",
       "<table border=\"1\" class=\"dataframe\">\n",
       "  <thead>\n",
       "    <tr style=\"text-align: right;\">\n",
       "      <th></th>\n",
       "      <th>Average Global Temperature, 1880-2011</th>\n",
       "      <th>Unnamed: 1</th>\n",
       "      <th>year</th>\n",
       "    </tr>\n",
       "  </thead>\n",
       "  <tbody>\n",
       "    <tr>\n",
       "      <th>131</th>\n",
       "      <td>2007</td>\n",
       "      <td>14.58</td>\n",
       "      <td>2007</td>\n",
       "    </tr>\n",
       "    <tr>\n",
       "      <th>132</th>\n",
       "      <td>2008</td>\n",
       "      <td>14.44</td>\n",
       "      <td>2008</td>\n",
       "    </tr>\n",
       "    <tr>\n",
       "      <th>133</th>\n",
       "      <td>2009</td>\n",
       "      <td>14.57</td>\n",
       "      <td>2009</td>\n",
       "    </tr>\n",
       "    <tr>\n",
       "      <th>134</th>\n",
       "      <td>2010</td>\n",
       "      <td>14.63</td>\n",
       "      <td>2010</td>\n",
       "    </tr>\n",
       "    <tr>\n",
       "      <th>135</th>\n",
       "      <td>2011</td>\n",
       "      <td>14.52</td>\n",
       "      <td>2011</td>\n",
       "    </tr>\n",
       "  </tbody>\n",
       "</table>\n",
       "</div>"
      ],
      "text/plain": [
       "    Average Global Temperature, 1880-2011 Unnamed: 1  year\n",
       "131                                  2007      14.58  2007\n",
       "132                                  2008      14.44  2008\n",
       "133                                  2009      14.57  2009\n",
       "134                                  2010      14.63  2010\n",
       "135                                  2011      14.52  2011"
      ]
     },
     "execution_count": 38,
     "metadata": {},
     "output_type": "execute_result"
    }
   ],
   "source": [
    "y2.tail()"
   ]
  },
  {
   "cell_type": "code",
   "execution_count": 39,
   "metadata": {},
   "outputs": [
    {
     "data": {
      "text/html": [
       "<div>\n",
       "<style scoped>\n",
       "    .dataframe tbody tr th:only-of-type {\n",
       "        vertical-align: middle;\n",
       "    }\n",
       "\n",
       "    .dataframe tbody tr th {\n",
       "        vertical-align: top;\n",
       "    }\n",
       "\n",
       "    .dataframe thead th {\n",
       "        text-align: right;\n",
       "    }\n",
       "</style>\n",
       "<table border=\"1\" class=\"dataframe\">\n",
       "  <thead>\n",
       "    <tr style=\"text-align: right;\">\n",
       "      <th></th>\n",
       "      <th>Year</th>\n",
       "      <th>Unnamed: 1</th>\n",
       "      <th>Population</th>\n",
       "    </tr>\n",
       "  </thead>\n",
       "  <tbody>\n",
       "    <tr>\n",
       "      <th>0</th>\n",
       "      <td>1</td>\n",
       "      <td>NaN</td>\n",
       "      <td>200 million</td>\n",
       "    </tr>\n",
       "    <tr>\n",
       "      <th>1</th>\n",
       "      <td>1000</td>\n",
       "      <td>NaN</td>\n",
       "      <td>275 million</td>\n",
       "    </tr>\n",
       "    <tr>\n",
       "      <th>2</th>\n",
       "      <td>1500</td>\n",
       "      <td>NaN</td>\n",
       "      <td>450 million</td>\n",
       "    </tr>\n",
       "    <tr>\n",
       "      <th>3</th>\n",
       "      <td>1650</td>\n",
       "      <td>NaN</td>\n",
       "      <td>500 million</td>\n",
       "    </tr>\n",
       "    <tr>\n",
       "      <th>4</th>\n",
       "      <td>1750</td>\n",
       "      <td>NaN</td>\n",
       "      <td>700 million</td>\n",
       "    </tr>\n",
       "  </tbody>\n",
       "</table>\n",
       "</div>"
      ],
      "text/plain": [
       "   Year  Unnamed: 1   Population\n",
       "0     1         NaN  200 million\n",
       "1  1000         NaN  275 million\n",
       "2  1500         NaN  450 million\n",
       "3  1650         NaN  500 million\n",
       "4  1750         NaN  700 million"
      ]
     },
     "execution_count": 39,
     "metadata": {},
     "output_type": "execute_result"
    }
   ],
   "source": [
    "x1.head()"
   ]
  },
  {
   "cell_type": "code",
   "execution_count": 40,
   "metadata": {},
   "outputs": [],
   "source": [
    "k8=[]\n",
    "for i in x1[\"Year\"]:\n",
    "    for j in y2[\"year\"]:\n",
    "        if i==j:\n",
    "            k8=np.append(k8,i) "
   ]
  },
  {
   "cell_type": "code",
   "execution_count": 41,
   "metadata": {},
   "outputs": [
    {
     "data": {
      "text/plain": [
       "array([1900., 1927., 1950., 1955., 1960., 1965., 1970., 1975., 1980.,\n",
       "       1985., 1990., 1995., 1999., 2006., 2009., 2011.])"
      ]
     },
     "execution_count": 41,
     "metadata": {},
     "output_type": "execute_result"
    }
   ],
   "source": [
    "(k8)"
   ]
  },
  {
   "cell_type": "code",
   "execution_count": 42,
   "metadata": {},
   "outputs": [],
   "source": [
    "n=len(y2[\"year\"])"
   ]
  },
  {
   "cell_type": "code",
   "execution_count": 43,
   "metadata": {},
   "outputs": [
    {
     "data": {
      "text/html": [
       "<div>\n",
       "<style scoped>\n",
       "    .dataframe tbody tr th:only-of-type {\n",
       "        vertical-align: middle;\n",
       "    }\n",
       "\n",
       "    .dataframe tbody tr th {\n",
       "        vertical-align: top;\n",
       "    }\n",
       "\n",
       "    .dataframe thead th {\n",
       "        text-align: right;\n",
       "    }\n",
       "</style>\n",
       "<table border=\"1\" class=\"dataframe\">\n",
       "  <thead>\n",
       "    <tr style=\"text-align: right;\">\n",
       "      <th></th>\n",
       "      <th>Average Global Temperature, 1880-2011</th>\n",
       "      <th>Unnamed: 1</th>\n",
       "      <th>year</th>\n",
       "    </tr>\n",
       "  </thead>\n",
       "  <tbody>\n",
       "    <tr>\n",
       "      <th>4</th>\n",
       "      <td>1880</td>\n",
       "      <td>13.72</td>\n",
       "      <td>1880</td>\n",
       "    </tr>\n",
       "    <tr>\n",
       "      <th>5</th>\n",
       "      <td>1881</td>\n",
       "      <td>13.8</td>\n",
       "      <td>1881</td>\n",
       "    </tr>\n",
       "    <tr>\n",
       "      <th>6</th>\n",
       "      <td>1882</td>\n",
       "      <td>13.74</td>\n",
       "      <td>1882</td>\n",
       "    </tr>\n",
       "    <tr>\n",
       "      <th>7</th>\n",
       "      <td>1883</td>\n",
       "      <td>13.73</td>\n",
       "      <td>1883</td>\n",
       "    </tr>\n",
       "    <tr>\n",
       "      <th>8</th>\n",
       "      <td>1884</td>\n",
       "      <td>13.69</td>\n",
       "      <td>1884</td>\n",
       "    </tr>\n",
       "  </tbody>\n",
       "</table>\n",
       "</div>"
      ],
      "text/plain": [
       "  Average Global Temperature, 1880-2011 Unnamed: 1  year\n",
       "4                                  1880      13.72  1880\n",
       "5                                  1881       13.8  1881\n",
       "6                                  1882      13.74  1882\n",
       "7                                  1883      13.73  1883\n",
       "8                                  1884      13.69  1884"
      ]
     },
     "execution_count": 43,
     "metadata": {},
     "output_type": "execute_result"
    }
   ],
   "source": [
    "y2.head()"
   ]
  },
  {
   "cell_type": "code",
   "execution_count": 44,
   "metadata": {},
   "outputs": [
    {
     "data": {
      "text/plain": [
       "132"
      ]
     },
     "execution_count": 44,
     "metadata": {},
     "output_type": "execute_result"
    }
   ],
   "source": [
    "n"
   ]
  },
  {
   "cell_type": "code",
   "execution_count": 134,
   "metadata": {},
   "outputs": [],
   "source": [
    "k9=[]\n",
    "for i in np.arange(4,n+4):\n",
    "    for j in np.arange(len(k8)):\n",
    "        if y2[\"year\"][i]==k8[j]:\n",
    "            k9=np.append(k9,y2[\"Unnamed: 1\"][i])\n"
   ]
  },
  {
   "cell_type": "code",
   "execution_count": 135,
   "metadata": {},
   "outputs": [
    {
     "data": {
      "text/plain": [
       "16"
      ]
     },
     "execution_count": 135,
     "metadata": {},
     "output_type": "execute_result"
    }
   ],
   "source": [
    "len(k9)"
   ]
  },
  {
   "cell_type": "code",
   "execution_count": 136,
   "metadata": {},
   "outputs": [],
   "source": [
    "k10=[]\n",
    "for i in np.arange(4,len(x1[\"Year\"])):\n",
    "    for j in np.arange(len(k8)):\n",
    "        if x1[\"Year\"][i]==k8[j]:\n",
    "            k10=np.append(k10,x1[\"Population\"][i])"
   ]
  },
  {
   "cell_type": "code",
   "execution_count": 137,
   "metadata": {},
   "outputs": [],
   "source": [
    "k11=[]\n",
    "for i in np.arange(len(k10)):\n",
    "    k11=np.append(k11,float(k10[i][0:-8]))"
   ]
  },
  {
   "cell_type": "code",
   "execution_count": 138,
   "metadata": {},
   "outputs": [
    {
     "data": {
      "text/plain": [
       "16"
      ]
     },
     "execution_count": 138,
     "metadata": {},
     "output_type": "execute_result"
    }
   ],
   "source": [
    "len(k11)"
   ]
  },
  {
   "cell_type": "code",
   "execution_count": 139,
   "metadata": {},
   "outputs": [],
   "source": [
    "df1=DataFrame([k8,k9,k11],index=[\"year\",\"tem\",\"pop\"])"
   ]
  },
  {
   "cell_type": "code",
   "execution_count": 140,
   "metadata": {},
   "outputs": [],
   "source": [
    "tem_pop=df1.T"
   ]
  },
  {
   "cell_type": "code",
   "execution_count": 141,
   "metadata": {},
   "outputs": [
    {
     "data": {
      "text/html": [
       "<div>\n",
       "<style scoped>\n",
       "    .dataframe tbody tr th:only-of-type {\n",
       "        vertical-align: middle;\n",
       "    }\n",
       "\n",
       "    .dataframe tbody tr th {\n",
       "        vertical-align: top;\n",
       "    }\n",
       "\n",
       "    .dataframe thead th {\n",
       "        text-align: right;\n",
       "    }\n",
       "</style>\n",
       "<table border=\"1\" class=\"dataframe\">\n",
       "  <thead>\n",
       "    <tr style=\"text-align: right;\">\n",
       "      <th></th>\n",
       "      <th>year</th>\n",
       "      <th>tem</th>\n",
       "      <th>pop</th>\n",
       "    </tr>\n",
       "  </thead>\n",
       "  <tbody>\n",
       "    <tr>\n",
       "      <th>0</th>\n",
       "      <td>1900.0</td>\n",
       "      <td>13.91</td>\n",
       "      <td>1.60</td>\n",
       "    </tr>\n",
       "    <tr>\n",
       "      <th>1</th>\n",
       "      <td>1927.0</td>\n",
       "      <td>13.85</td>\n",
       "      <td>2.00</td>\n",
       "    </tr>\n",
       "    <tr>\n",
       "      <th>2</th>\n",
       "      <td>1950.0</td>\n",
       "      <td>13.84</td>\n",
       "      <td>2.55</td>\n",
       "    </tr>\n",
       "    <tr>\n",
       "      <th>3</th>\n",
       "      <td>1955.0</td>\n",
       "      <td>13.89</td>\n",
       "      <td>2.80</td>\n",
       "    </tr>\n",
       "    <tr>\n",
       "      <th>4</th>\n",
       "      <td>1960.0</td>\n",
       "      <td>13.99</td>\n",
       "      <td>3.00</td>\n",
       "    </tr>\n",
       "    <tr>\n",
       "      <th>5</th>\n",
       "      <td>1965.0</td>\n",
       "      <td>13.89</td>\n",
       "      <td>3.30</td>\n",
       "    </tr>\n",
       "    <tr>\n",
       "      <th>6</th>\n",
       "      <td>1970.0</td>\n",
       "      <td>14.03</td>\n",
       "      <td>3.70</td>\n",
       "    </tr>\n",
       "    <tr>\n",
       "      <th>7</th>\n",
       "      <td>1975.0</td>\n",
       "      <td>13.96</td>\n",
       "      <td>4.00</td>\n",
       "    </tr>\n",
       "    <tr>\n",
       "      <th>8</th>\n",
       "      <td>1980.0</td>\n",
       "      <td>14.20</td>\n",
       "      <td>4.50</td>\n",
       "    </tr>\n",
       "    <tr>\n",
       "      <th>9</th>\n",
       "      <td>1985.0</td>\n",
       "      <td>14.05</td>\n",
       "      <td>4.85</td>\n",
       "    </tr>\n",
       "    <tr>\n",
       "      <th>10</th>\n",
       "      <td>1990.0</td>\n",
       "      <td>14.36</td>\n",
       "      <td>5.30</td>\n",
       "    </tr>\n",
       "    <tr>\n",
       "      <th>11</th>\n",
       "      <td>1995.0</td>\n",
       "      <td>14.39</td>\n",
       "      <td>5.70</td>\n",
       "    </tr>\n",
       "    <tr>\n",
       "      <th>12</th>\n",
       "      <td>1999.0</td>\n",
       "      <td>14.33</td>\n",
       "      <td>6.00</td>\n",
       "    </tr>\n",
       "    <tr>\n",
       "      <th>13</th>\n",
       "      <td>2006.0</td>\n",
       "      <td>14.55</td>\n",
       "      <td>6.50</td>\n",
       "    </tr>\n",
       "    <tr>\n",
       "      <th>14</th>\n",
       "      <td>2009.0</td>\n",
       "      <td>14.57</td>\n",
       "      <td>6.80</td>\n",
       "    </tr>\n",
       "    <tr>\n",
       "      <th>15</th>\n",
       "      <td>2011.0</td>\n",
       "      <td>14.52</td>\n",
       "      <td>7.00</td>\n",
       "    </tr>\n",
       "  </tbody>\n",
       "</table>\n",
       "</div>"
      ],
      "text/plain": [
       "      year    tem   pop\n",
       "0   1900.0  13.91  1.60\n",
       "1   1927.0  13.85  2.00\n",
       "2   1950.0  13.84  2.55\n",
       "3   1955.0  13.89  2.80\n",
       "4   1960.0  13.99  3.00\n",
       "5   1965.0  13.89  3.30\n",
       "6   1970.0  14.03  3.70\n",
       "7   1975.0  13.96  4.00\n",
       "8   1980.0  14.20  4.50\n",
       "9   1985.0  14.05  4.85\n",
       "10  1990.0  14.36  5.30\n",
       "11  1995.0  14.39  5.70\n",
       "12  1999.0  14.33  6.00\n",
       "13  2006.0  14.55  6.50\n",
       "14  2009.0  14.57  6.80\n",
       "15  2011.0  14.52  7.00"
      ]
     },
     "execution_count": 141,
     "metadata": {},
     "output_type": "execute_result"
    }
   ],
   "source": [
    "tem_pop"
   ]
  },
  {
   "cell_type": "code",
   "execution_count": 53,
   "metadata": {},
   "outputs": [
    {
     "data": {
      "text/plain": [
       "Text(0.5, 0, 'years')"
      ]
     },
     "execution_count": 53,
     "metadata": {},
     "output_type": "execute_result"
    },
    {
     "data": {
      "image/png": "[encoded data removed]",
      "text/plain": [
       "<Figure size 432x288 with 1 Axes>"
      ]
     },
     "metadata": {
      "needs_background": "light"
     },
     "output_type": "display_data"
    }
   ],
   "source": [
    "plt.plot(tem_pop[\"year\"],tem_pop[\"tem\"])\n",
    "plt.title(\"growth of temperature\")\n",
    "plt.ylabel(\"temerature in celcius\")\n",
    "plt.xlabel(\"years\")"
   ]
  },
  {
   "cell_type": "markdown",
   "metadata": {},
   "source": [
    "clearly after 1960 their was a tremendous growth of temperature"
   ]
  },
  {
   "cell_type": "code",
   "execution_count": 54,
   "metadata": {},
   "outputs": [
    {
     "data": {
      "text/plain": [
       "Text(0.5, 6.799999999999994, 'years')"
      ]
     },
     "execution_count": 54,
     "metadata": {},
     "output_type": "execute_result"
    },
    {
     "data": {
      "image/png": "[encoded data removed]",
      "text/plain": [
       "<Figure size 360x360 with 1 Axes>"
      ]
     },
     "metadata": {
      "needs_background": "light"
     },
     "output_type": "display_data"
    }
   ],
   "source": [
    "sns.lmplot(\"year\",\"tem\",tem_pop,lowess=True)\n",
    "plt.title(\"growth of temperature\")\n",
    "plt.ylabel(\"temerature in celcius\")\n",
    "plt.xlabel(\"years\")"
   ]
  },
  {
   "cell_type": "markdown",
   "metadata": {},
   "source": [
    "clearly the trend of increase in temperature changes after 1955 approx"
   ]
  },
  {
   "cell_type": "code",
   "execution_count": 55,
   "metadata": {},
   "outputs": [
    {
     "data": {
      "text/plain": [
       "Text(0.5, 6.799999999999994, 'years')"
      ]
     },
     "execution_count": 55,
     "metadata": {},
     "output_type": "execute_result"
    },
    {
     "data": {
      "image/png": "[encoded data removed]",
      "text/plain": [
       "<Figure size 360x360 with 1 Axes>"
      ]
     },
     "metadata": {
      "needs_background": "light"
     },
     "output_type": "display_data"
    }
   ],
   "source": [
    "sns.lmplot(\"year\",\"tem\",tem_pop,order=2)\n",
    "plt.title(\"growth of temperature\")\n",
    "plt.ylabel(\"temerature in celcius\")\n",
    "plt.xlabel(\"years\")"
   ]
  },
  {
   "cell_type": "code",
   "execution_count": 56,
   "metadata": {},
   "outputs": [
    {
     "data": {
      "text/plain": [
       "Text(0.5, 0, 'years')"
      ]
     },
     "execution_count": 56,
     "metadata": {},
     "output_type": "execute_result"
    },
    {
     "data": {
      "image/png": "[encoded data removed]",
      "text/plain": [
       "<Figure size 432x288 with 1 Axes>"
      ]
     },
     "metadata": {
      "needs_background": "light"
     },
     "output_type": "display_data"
    }
   ],
   "source": [
    "plt.plot(tem_pop[\"year\"],tem_pop[\"pop\"])\n",
    "plt.title(\"growth of population\")\n",
    "plt.ylabel(\"population in billions\")\n",
    "plt.xlabel(\"years\")"
   ]
  },
  {
   "cell_type": "code",
   "execution_count": 57,
   "metadata": {},
   "outputs": [
    {
     "data": {
      "text/plain": [
       "Text(0.5, 6.799999999999994, 'years')"
      ]
     },
     "execution_count": 57,
     "metadata": {},
     "output_type": "execute_result"
    },
    {
     "data": {
      "image/png": "[encoded data removed]",
      "text/plain": [
       "<Figure size 360x360 with 1 Axes>"
      ]
     },
     "metadata": {
      "needs_background": "light"
     },
     "output_type": "display_data"
    }
   ],
   "source": [
    "sns.lmplot(\"year\",\"pop\",tem_pop,order=2)\n",
    "plt.title(\"growth of population\")\n",
    "plt.ylabel(\"population in billions\")\n",
    "plt.xlabel(\"years\")"
   ]
  },
  {
   "cell_type": "code",
   "execution_count": 58,
   "metadata": {},
   "outputs": [
    {
     "data": {
      "text/plain": [
       "Text(0.5, 6.799999999999994, 'years')"
      ]
     },
     "execution_count": 58,
     "metadata": {},
     "output_type": "execute_result"
    },
    {
     "data": {
      "image/png": "[encoded data removed]",
      "text/plain": [
       "<Figure size 360x360 with 1 Axes>"
      ]
     },
     "metadata": {
      "needs_background": "light"
     },
     "output_type": "display_data"
    }
   ],
   "source": [
    "sns.lmplot(\"year\",\"pop\",tem_pop,lowess=True)\n",
    "plt.title(\"growth of population\")\n",
    "plt.ylabel(\"population in billions\")\n",
    "plt.xlabel(\"years\")"
   ]
  },
  {
   "cell_type": "markdown",
   "metadata": {},
   "source": [
    "again after year 1950 their is a sudden increase in the population"
   ]
  },
  {
   "cell_type": "code",
   "execution_count": 59,
   "metadata": {},
   "outputs": [
    {
     "data": {
      "text/plain": [
       "Text(0.5, 6.799999999999994, 'years')"
      ]
     },
     "execution_count": 59,
     "metadata": {},
     "output_type": "execute_result"
    },
    {
     "data": {
      "image/png": "[encoded data removed]",
      "text/plain": [
       "<Figure size 360x360 with 1 Axes>"
      ]
     },
     "metadata": {
      "needs_background": "light"
     },
     "output_type": "display_data"
    }
   ],
   "source": [
    "sns.lmplot(\"year\",\"pop\",tem_pop,lowess=True)\n",
    "plt.title(\"growth of population\")\n",
    "plt.ylabel(\"population in billions\")\n",
    "plt.xlabel(\"years\")"
   ]
  },
  {
   "cell_type": "code",
   "execution_count": 60,
   "metadata": {},
   "outputs": [],
   "source": [
    "import math"
   ]
  },
  {
   "cell_type": "raw",
   "metadata": {},
   "source": [
    "#plt.title(\"growth of population\")\n",
    "plt.ylabel(\"population in billions\")\n",
    "plt.xlabel(\"years\")\n",
    "plt.plot(tem_pop[\"year\"],tem_pop[\"tem\"])#,tem_pop[\"pop\"])\n",
    "plt.plot(tem_pop[\"year\"],tem_pop[\"pop\"]*7)\n",
    "plt.title(\"population & temperature\")\n",
    "plt.ylabel(\"temerature in celcius\")\n",
    "plt.xlabel(\"years\")\n",
    "plt.legend([\"temp\",\"pop\"])"
   ]
  },
  {
   "cell_type": "code",
   "execution_count": 61,
   "metadata": {},
   "outputs": [
    {
     "data": {
      "text/plain": [
       "Text(0, 0.5, 'tempratrature')"
      ]
     },
     "execution_count": 61,
     "metadata": {},
     "output_type": "execute_result"
    },
    {
     "data": {
      "image/png": "[encoded data removed]",
      "text/plain": [
       "<Figure size 432x288 with 1 Axes>"
      ]
     },
     "metadata": {
      "needs_background": "light"
     },
     "output_type": "display_data"
    }
   ],
   "source": [
    "plt.plot(tem_pop[\"pop\"],tem_pop[\"tem\"])\n",
    "plt.title(\"temprature vs population\")\n",
    "plt.xlabel(\"population in billions\")\n",
    "plt.ylabel(\"tempratrature\")"
   ]
  },
  {
   "cell_type": "code",
   "execution_count": 62,
   "metadata": {},
   "outputs": [
    {
     "data": {
      "text/plain": [
       "Text(1.0500000000000043, 0.5, 'tempratrature')"
      ]
     },
     "execution_count": 62,
     "metadata": {},
     "output_type": "execute_result"
    },
    {
     "data": {
      "image/png": "[encoded data removed]",
      "text/plain": [
       "<Figure size 360x360 with 1 Axes>"
      ]
     },
     "metadata": {
      "needs_background": "light"
     },
     "output_type": "display_data"
    }
   ],
   "source": [
    "sns.lmplot(\"pop\",\"tem\",tem_pop,order=2)\n",
    "plt.title(\"temprature vs population\")\n",
    "plt.xlabel(\"population in billions\")\n",
    "plt.ylabel(\"tempratrature\")"
   ]
  },
  {
   "cell_type": "code",
   "execution_count": 63,
   "metadata": {},
   "outputs": [
    {
     "data": {
      "text/plain": [
       "Text(1.0500000000000043, 0.5, 'tempratrature')"
      ]
     },
     "execution_count": 63,
     "metadata": {},
     "output_type": "execute_result"
    },
    {
     "data": {
      "image/png": "[encoded data removed]",
      "text/plain": [
       "<Figure size 360x360 with 1 Axes>"
      ]
     },
     "metadata": {
      "needs_background": "light"
     },
     "output_type": "display_data"
    }
   ],
   "source": [
    "sns.lmplot(\"pop\",\"tem\",tem_pop,lowess=True)\n",
    "plt.title(\"temprature vs population\")\n",
    "plt.xlabel(\"population in billions\")\n",
    "plt.ylabel(\"tempratrature\")"
   ]
  },
  {
   "cell_type": "markdown",
   "metadata": {},
   "source": [
    "clearly the increasing population is positively correlated with the incease in temprature"
   ]
  },
  {
   "cell_type": "markdown",
   "metadata": {},
   "source": [
    "# tem & sealabel"
   ]
  },
  {
   "cell_type": "code",
   "execution_count": 142,
   "metadata": {},
   "outputs": [
    {
     "data": {
      "text/html": [
       "<div>\n",
       "<style scoped>\n",
       "    .dataframe tbody tr th:only-of-type {\n",
       "        vertical-align: middle;\n",
       "    }\n",
       "\n",
       "    .dataframe tbody tr th {\n",
       "        vertical-align: top;\n",
       "    }\n",
       "\n",
       "    .dataframe thead th {\n",
       "        text-align: right;\n",
       "    }\n",
       "</style>\n",
       "<table border=\"1\" class=\"dataframe\">\n",
       "  <thead>\n",
       "    <tr style=\"text-align: right;\">\n",
       "      <th></th>\n",
       "      <th>year</th>\n",
       "      <th>tem</th>\n",
       "      <th>pop</th>\n",
       "    </tr>\n",
       "  </thead>\n",
       "  <tbody>\n",
       "    <tr>\n",
       "      <th>0</th>\n",
       "      <td>1900.0</td>\n",
       "      <td>13.91</td>\n",
       "      <td>1.60</td>\n",
       "    </tr>\n",
       "    <tr>\n",
       "      <th>1</th>\n",
       "      <td>1927.0</td>\n",
       "      <td>13.85</td>\n",
       "      <td>2.00</td>\n",
       "    </tr>\n",
       "    <tr>\n",
       "      <th>2</th>\n",
       "      <td>1950.0</td>\n",
       "      <td>13.84</td>\n",
       "      <td>2.55</td>\n",
       "    </tr>\n",
       "    <tr>\n",
       "      <th>3</th>\n",
       "      <td>1955.0</td>\n",
       "      <td>13.89</td>\n",
       "      <td>2.80</td>\n",
       "    </tr>\n",
       "    <tr>\n",
       "      <th>4</th>\n",
       "      <td>1960.0</td>\n",
       "      <td>13.99</td>\n",
       "      <td>3.00</td>\n",
       "    </tr>\n",
       "    <tr>\n",
       "      <th>5</th>\n",
       "      <td>1965.0</td>\n",
       "      <td>13.89</td>\n",
       "      <td>3.30</td>\n",
       "    </tr>\n",
       "    <tr>\n",
       "      <th>6</th>\n",
       "      <td>1970.0</td>\n",
       "      <td>14.03</td>\n",
       "      <td>3.70</td>\n",
       "    </tr>\n",
       "    <tr>\n",
       "      <th>7</th>\n",
       "      <td>1975.0</td>\n",
       "      <td>13.96</td>\n",
       "      <td>4.00</td>\n",
       "    </tr>\n",
       "    <tr>\n",
       "      <th>8</th>\n",
       "      <td>1980.0</td>\n",
       "      <td>14.20</td>\n",
       "      <td>4.50</td>\n",
       "    </tr>\n",
       "    <tr>\n",
       "      <th>9</th>\n",
       "      <td>1985.0</td>\n",
       "      <td>14.05</td>\n",
       "      <td>4.85</td>\n",
       "    </tr>\n",
       "    <tr>\n",
       "      <th>10</th>\n",
       "      <td>1990.0</td>\n",
       "      <td>14.36</td>\n",
       "      <td>5.30</td>\n",
       "    </tr>\n",
       "    <tr>\n",
       "      <th>11</th>\n",
       "      <td>1995.0</td>\n",
       "      <td>14.39</td>\n",
       "      <td>5.70</td>\n",
       "    </tr>\n",
       "    <tr>\n",
       "      <th>12</th>\n",
       "      <td>1999.0</td>\n",
       "      <td>14.33</td>\n",
       "      <td>6.00</td>\n",
       "    </tr>\n",
       "    <tr>\n",
       "      <th>13</th>\n",
       "      <td>2006.0</td>\n",
       "      <td>14.55</td>\n",
       "      <td>6.50</td>\n",
       "    </tr>\n",
       "    <tr>\n",
       "      <th>14</th>\n",
       "      <td>2009.0</td>\n",
       "      <td>14.57</td>\n",
       "      <td>6.80</td>\n",
       "    </tr>\n",
       "    <tr>\n",
       "      <th>15</th>\n",
       "      <td>2011.0</td>\n",
       "      <td>14.52</td>\n",
       "      <td>7.00</td>\n",
       "    </tr>\n",
       "  </tbody>\n",
       "</table>\n",
       "</div>"
      ],
      "text/plain": [
       "      year    tem   pop\n",
       "0   1900.0  13.91  1.60\n",
       "1   1927.0  13.85  2.00\n",
       "2   1950.0  13.84  2.55\n",
       "3   1955.0  13.89  2.80\n",
       "4   1960.0  13.99  3.00\n",
       "5   1965.0  13.89  3.30\n",
       "6   1970.0  14.03  3.70\n",
       "7   1975.0  13.96  4.00\n",
       "8   1980.0  14.20  4.50\n",
       "9   1985.0  14.05  4.85\n",
       "10  1990.0  14.36  5.30\n",
       "11  1995.0  14.39  5.70\n",
       "12  1999.0  14.33  6.00\n",
       "13  2006.0  14.55  6.50\n",
       "14  2009.0  14.57  6.80\n",
       "15  2011.0  14.52  7.00"
      ]
     },
     "execution_count": 142,
     "metadata": {},
     "output_type": "execute_result"
    }
   ],
   "source": [
    "tem_pop"
   ]
  },
  {
   "cell_type": "code",
   "execution_count": 143,
   "metadata": {},
   "outputs": [
    {
     "data": {
      "text/html": [
       "<div>\n",
       "<style scoped>\n",
       "    .dataframe tbody tr th:only-of-type {\n",
       "        vertical-align: middle;\n",
       "    }\n",
       "\n",
       "    .dataframe tbody tr th {\n",
       "        vertical-align: top;\n",
       "    }\n",
       "\n",
       "    .dataframe thead th {\n",
       "        text-align: right;\n",
       "    }\n",
       "</style>\n",
       "<table border=\"1\" class=\"dataframe\">\n",
       "  <thead>\n",
       "    <tr style=\"text-align: right;\">\n",
       "      <th></th>\n",
       "      <th>Time</th>\n",
       "      <th>GMSL (mm)</th>\n",
       "      <th>GMSL uncertainty (mm)</th>\n",
       "      <th>year</th>\n",
       "    </tr>\n",
       "    <tr>\n",
       "      <th>Time</th>\n",
       "      <th></th>\n",
       "      <th></th>\n",
       "      <th></th>\n",
       "      <th></th>\n",
       "    </tr>\n",
       "  </thead>\n",
       "  <tbody>\n",
       "    <tr>\n",
       "      <th>1880.0417</th>\n",
       "      <td>1880.0417</td>\n",
       "      <td>-183.0</td>\n",
       "      <td>24.2</td>\n",
       "      <td>1880.0</td>\n",
       "    </tr>\n",
       "    <tr>\n",
       "      <th>1880.1250</th>\n",
       "      <td>1880.1250</td>\n",
       "      <td>-171.1</td>\n",
       "      <td>24.2</td>\n",
       "      <td>1880.0</td>\n",
       "    </tr>\n",
       "    <tr>\n",
       "      <th>1880.2083</th>\n",
       "      <td>1880.2083</td>\n",
       "      <td>-164.3</td>\n",
       "      <td>24.2</td>\n",
       "      <td>1880.0</td>\n",
       "    </tr>\n",
       "    <tr>\n",
       "      <th>1880.2917</th>\n",
       "      <td>1880.2917</td>\n",
       "      <td>-158.2</td>\n",
       "      <td>24.2</td>\n",
       "      <td>1880.0</td>\n",
       "    </tr>\n",
       "    <tr>\n",
       "      <th>1880.3750</th>\n",
       "      <td>1880.3750</td>\n",
       "      <td>-158.7</td>\n",
       "      <td>24.2</td>\n",
       "      <td>1880.0</td>\n",
       "    </tr>\n",
       "  </tbody>\n",
       "</table>\n",
       "</div>"
      ],
      "text/plain": [
       "                Time  GMSL (mm)  GMSL uncertainty (mm)    year\n",
       "Time                                                          \n",
       "1880.0417  1880.0417     -183.0                   24.2  1880.0\n",
       "1880.1250  1880.1250     -171.1                   24.2  1880.0\n",
       "1880.2083  1880.2083     -164.3                   24.2  1880.0\n",
       "1880.2917  1880.2917     -158.2                   24.2  1880.0\n",
       "1880.3750  1880.3750     -158.7                   24.2  1880.0"
      ]
     },
     "execution_count": 143,
     "metadata": {},
     "output_type": "execute_result"
    }
   ],
   "source": [
    "x3.head()"
   ]
  },
  {
   "cell_type": "code",
   "execution_count": 66,
   "metadata": {},
   "outputs": [],
   "source": [
    "k11=[]\n",
    "for i in x3[\"Time\"]:\n",
    "    k11=np.append(k11,int(i))"
   ]
  },
  {
   "cell_type": "code",
   "execution_count": 67,
   "metadata": {},
   "outputs": [],
   "source": [
    "x3[\"year\"]=k11"
   ]
  },
  {
   "cell_type": "code",
   "execution_count": 68,
   "metadata": {},
   "outputs": [],
   "source": [
    "sea=x3.groupby(\"year\").mean()"
   ]
  },
  {
   "cell_type": "code",
   "execution_count": 69,
   "metadata": {},
   "outputs": [
    {
     "data": {
      "text/html": [
       "<div>\n",
       "<style scoped>\n",
       "    .dataframe tbody tr th:only-of-type {\n",
       "        vertical-align: middle;\n",
       "    }\n",
       "\n",
       "    .dataframe tbody tr th {\n",
       "        vertical-align: top;\n",
       "    }\n",
       "\n",
       "    .dataframe thead th {\n",
       "        text-align: right;\n",
       "    }\n",
       "</style>\n",
       "<table border=\"1\" class=\"dataframe\">\n",
       "  <thead>\n",
       "    <tr style=\"text-align: right;\">\n",
       "      <th></th>\n",
       "      <th>Time</th>\n",
       "      <th>GMSL (mm)</th>\n",
       "      <th>GMSL uncertainty (mm)</th>\n",
       "    </tr>\n",
       "    <tr>\n",
       "      <th>year</th>\n",
       "      <th></th>\n",
       "      <th></th>\n",
       "      <th></th>\n",
       "    </tr>\n",
       "  </thead>\n",
       "  <tbody>\n",
       "    <tr>\n",
       "      <th>2009.0</th>\n",
       "      <td>2009.5</td>\n",
       "      <td>58.016667</td>\n",
       "      <td>6.883333</td>\n",
       "    </tr>\n",
       "    <tr>\n",
       "      <th>2010.0</th>\n",
       "      <td>2010.5</td>\n",
       "      <td>65.750000</td>\n",
       "      <td>7.116667</td>\n",
       "    </tr>\n",
       "    <tr>\n",
       "      <th>2011.0</th>\n",
       "      <td>2011.5</td>\n",
       "      <td>67.300000</td>\n",
       "      <td>7.550000</td>\n",
       "    </tr>\n",
       "    <tr>\n",
       "      <th>2012.0</th>\n",
       "      <td>2012.5</td>\n",
       "      <td>76.083333</td>\n",
       "      <td>8.300000</td>\n",
       "    </tr>\n",
       "    <tr>\n",
       "      <th>2013.0</th>\n",
       "      <td>2013.5</td>\n",
       "      <td>67.725000</td>\n",
       "      <td>8.841667</td>\n",
       "    </tr>\n",
       "  </tbody>\n",
       "</table>\n",
       "</div>"
      ],
      "text/plain": [
       "          Time  GMSL (mm)  GMSL uncertainty (mm)\n",
       "year                                            \n",
       "2009.0  2009.5  58.016667               6.883333\n",
       "2010.0  2010.5  65.750000               7.116667\n",
       "2011.0  2011.5  67.300000               7.550000\n",
       "2012.0  2012.5  76.083333               8.300000\n",
       "2013.0  2013.5  67.725000               8.841667"
      ]
     },
     "execution_count": 69,
     "metadata": {},
     "output_type": "execute_result"
    }
   ],
   "source": [
    "sea.tail()"
   ]
  },
  {
   "cell_type": "code",
   "execution_count": 70,
   "metadata": {},
   "outputs": [],
   "source": [
    "n1=len(k8)"
   ]
  },
  {
   "cell_type": "code",
   "execution_count": 71,
   "metadata": {},
   "outputs": [],
   "source": [
    "a1=sea.index.values\n",
    "n2=len(a1)"
   ]
  },
  {
   "cell_type": "code",
   "execution_count": 72,
   "metadata": {},
   "outputs": [
    {
     "data": {
      "text/plain": [
       "-153.05833333333337"
      ]
     },
     "execution_count": 72,
     "metadata": {},
     "output_type": "execute_result"
    }
   ],
   "source": [
    "sea[\"GMSL (mm)\"][a1[1]]"
   ]
  },
  {
   "cell_type": "code",
   "execution_count": 73,
   "metadata": {},
   "outputs": [],
   "source": [
    "k12=[]\n",
    "for i in np.arange(n2):\n",
    "    for j in np.arange(n1):\n",
    "        if a1[i]==k8[j]:\n",
    "            k12=np.append(k12,sea[\"GMSL (mm)\"][a1[i]])\n",
    "    "
   ]
  },
  {
   "cell_type": "code",
   "execution_count": 74,
   "metadata": {},
   "outputs": [
    {
     "data": {
      "text/plain": [
       "array([-1.30100000e+02, -1.07758333e+02, -6.73000000e+01, -5.79750000e+01,\n",
       "       -4.42666667e+01, -4.15416667e+01, -3.99416667e+01, -2.12750000e+01,\n",
       "       -1.65250000e+01, -1.26833333e+01,  8.33333333e-03,  9.52500000e+00,\n",
       "        1.92250000e+01,  4.15666667e+01,  5.80166667e+01,  6.73000000e+01])"
      ]
     },
     "execution_count": 74,
     "metadata": {},
     "output_type": "execute_result"
    }
   ],
   "source": [
    "k12"
   ]
  },
  {
   "cell_type": "code",
   "execution_count": 75,
   "metadata": {},
   "outputs": [],
   "source": [
    "tem_pop[\"sea_label\"]=k12"
   ]
  },
  {
   "cell_type": "code",
   "execution_count": 144,
   "metadata": {},
   "outputs": [],
   "source": [
    "tem_pop_sea=tem_pop"
   ]
  },
  {
   "cell_type": "code",
   "execution_count": 145,
   "metadata": {},
   "outputs": [
    {
     "data": {
      "text/html": [
       "<div>\n",
       "<style scoped>\n",
       "    .dataframe tbody tr th:only-of-type {\n",
       "        vertical-align: middle;\n",
       "    }\n",
       "\n",
       "    .dataframe tbody tr th {\n",
       "        vertical-align: top;\n",
       "    }\n",
       "\n",
       "    .dataframe thead th {\n",
       "        text-align: right;\n",
       "    }\n",
       "</style>\n",
       "<table border=\"1\" class=\"dataframe\">\n",
       "  <thead>\n",
       "    <tr style=\"text-align: right;\">\n",
       "      <th></th>\n",
       "      <th>year</th>\n",
       "      <th>tem</th>\n",
       "      <th>pop</th>\n",
       "    </tr>\n",
       "  </thead>\n",
       "  <tbody>\n",
       "    <tr>\n",
       "      <th>0</th>\n",
       "      <td>1900.0</td>\n",
       "      <td>13.91</td>\n",
       "      <td>1.60</td>\n",
       "    </tr>\n",
       "    <tr>\n",
       "      <th>1</th>\n",
       "      <td>1927.0</td>\n",
       "      <td>13.85</td>\n",
       "      <td>2.00</td>\n",
       "    </tr>\n",
       "    <tr>\n",
       "      <th>2</th>\n",
       "      <td>1950.0</td>\n",
       "      <td>13.84</td>\n",
       "      <td>2.55</td>\n",
       "    </tr>\n",
       "    <tr>\n",
       "      <th>3</th>\n",
       "      <td>1955.0</td>\n",
       "      <td>13.89</td>\n",
       "      <td>2.80</td>\n",
       "    </tr>\n",
       "    <tr>\n",
       "      <th>4</th>\n",
       "      <td>1960.0</td>\n",
       "      <td>13.99</td>\n",
       "      <td>3.00</td>\n",
       "    </tr>\n",
       "    <tr>\n",
       "      <th>5</th>\n",
       "      <td>1965.0</td>\n",
       "      <td>13.89</td>\n",
       "      <td>3.30</td>\n",
       "    </tr>\n",
       "    <tr>\n",
       "      <th>6</th>\n",
       "      <td>1970.0</td>\n",
       "      <td>14.03</td>\n",
       "      <td>3.70</td>\n",
       "    </tr>\n",
       "    <tr>\n",
       "      <th>7</th>\n",
       "      <td>1975.0</td>\n",
       "      <td>13.96</td>\n",
       "      <td>4.00</td>\n",
       "    </tr>\n",
       "    <tr>\n",
       "      <th>8</th>\n",
       "      <td>1980.0</td>\n",
       "      <td>14.20</td>\n",
       "      <td>4.50</td>\n",
       "    </tr>\n",
       "    <tr>\n",
       "      <th>9</th>\n",
       "      <td>1985.0</td>\n",
       "      <td>14.05</td>\n",
       "      <td>4.85</td>\n",
       "    </tr>\n",
       "    <tr>\n",
       "      <th>10</th>\n",
       "      <td>1990.0</td>\n",
       "      <td>14.36</td>\n",
       "      <td>5.30</td>\n",
       "    </tr>\n",
       "    <tr>\n",
       "      <th>11</th>\n",
       "      <td>1995.0</td>\n",
       "      <td>14.39</td>\n",
       "      <td>5.70</td>\n",
       "    </tr>\n",
       "    <tr>\n",
       "      <th>12</th>\n",
       "      <td>1999.0</td>\n",
       "      <td>14.33</td>\n",
       "      <td>6.00</td>\n",
       "    </tr>\n",
       "    <tr>\n",
       "      <th>13</th>\n",
       "      <td>2006.0</td>\n",
       "      <td>14.55</td>\n",
       "      <td>6.50</td>\n",
       "    </tr>\n",
       "    <tr>\n",
       "      <th>14</th>\n",
       "      <td>2009.0</td>\n",
       "      <td>14.57</td>\n",
       "      <td>6.80</td>\n",
       "    </tr>\n",
       "    <tr>\n",
       "      <th>15</th>\n",
       "      <td>2011.0</td>\n",
       "      <td>14.52</td>\n",
       "      <td>7.00</td>\n",
       "    </tr>\n",
       "  </tbody>\n",
       "</table>\n",
       "</div>"
      ],
      "text/plain": [
       "      year    tem   pop\n",
       "0   1900.0  13.91  1.60\n",
       "1   1927.0  13.85  2.00\n",
       "2   1950.0  13.84  2.55\n",
       "3   1955.0  13.89  2.80\n",
       "4   1960.0  13.99  3.00\n",
       "5   1965.0  13.89  3.30\n",
       "6   1970.0  14.03  3.70\n",
       "7   1975.0  13.96  4.00\n",
       "8   1980.0  14.20  4.50\n",
       "9   1985.0  14.05  4.85\n",
       "10  1990.0  14.36  5.30\n",
       "11  1995.0  14.39  5.70\n",
       "12  1999.0  14.33  6.00\n",
       "13  2006.0  14.55  6.50\n",
       "14  2009.0  14.57  6.80\n",
       "15  2011.0  14.52  7.00"
      ]
     },
     "execution_count": 145,
     "metadata": {},
     "output_type": "execute_result"
    }
   ],
   "source": [
    "tem_pop_sea"
   ]
  },
  {
   "cell_type": "code",
   "execution_count": 78,
   "metadata": {},
   "outputs": [
    {
     "data": {
      "text/plain": [
       "Text(0, 0.5, 'sea label with base 1990')"
      ]
     },
     "execution_count": 78,
     "metadata": {},
     "output_type": "execute_result"
    },
    {
     "data": {
      "image/png": "[encoded data removed]",
      "text/plain": [
       "<Figure size 432x288 with 1 Axes>"
      ]
     },
     "metadata": {
      "needs_background": "light"
     },
     "output_type": "display_data"
    }
   ],
   "source": [
    "plt.plot(tem_pop_sea[\"year\"],tem_pop_sea[\"sea_label\"])\n",
    "plt.title(\"increase in the sea label\")\n",
    "plt.xlabel(\"year\")\n",
    "plt.ylabel(\"sea label with base 1990\")"
   ]
  },
  {
   "cell_type": "code",
   "execution_count": 79,
   "metadata": {},
   "outputs": [
    {
     "data": {
      "text/plain": [
       "Text(-1.8249999999999957, 0.5, 'sea label with base 1990')"
      ]
     },
     "execution_count": 79,
     "metadata": {},
     "output_type": "execute_result"
    },
    {
     "data": {
      "image/png": "[encoded data removed]",
      "text/plain": [
       "<Figure size 360x360 with 1 Axes>"
      ]
     },
     "metadata": {
      "needs_background": "light"
     },
     "output_type": "display_data"
    }
   ],
   "source": [
    "sns.lmplot(\"year\",\"sea_label\",tem_pop_sea,order=2)\n",
    "plt.title(\"increase in the sea label\")\n",
    "plt.xlabel(\"year\")\n",
    "plt.ylabel(\"sea label with base 1990\")"
   ]
  },
  {
   "cell_type": "code",
   "execution_count": 80,
   "metadata": {},
   "outputs": [
    {
     "data": {
      "text/plain": [
       "Text(-1.9499999999999957, 0.5, 'sea label with base 1990')"
      ]
     },
     "execution_count": 80,
     "metadata": {},
     "output_type": "execute_result"
    },
    {
     "data": {
      "image/png": "[encoded data removed]",
      "text/plain": [
       "<Figure size 360x360 with 1 Axes>"
      ]
     },
     "metadata": {
      "needs_background": "light"
     },
     "output_type": "display_data"
    }
   ],
   "source": [
    "sns.lmplot(\"year\",\"sea_label\",tem_pop_sea,lowess=True)\n",
    "plt.title(\"increase in the sea label\")\n",
    "plt.xlabel(\"year\")\n",
    "plt.ylabel(\"sea label with base 1990\")"
   ]
  },
  {
   "cell_type": "code",
   "execution_count": 81,
   "metadata": {},
   "outputs": [
    {
     "data": {
      "text/plain": [
       "Text(0.5, 0, 'sea label with base 1990')"
      ]
     },
     "execution_count": 81,
     "metadata": {},
     "output_type": "execute_result"
    },
    {
     "data": {
      "image/png": "[encoded data removed]",
      "text/plain": [
       "<Figure size 432x288 with 1 Axes>"
      ]
     },
     "metadata": {
      "needs_background": "light"
     },
     "output_type": "display_data"
    }
   ],
   "source": [
    "plt.plot(tem_pop_sea[\"sea_label\"],tem_pop_sea[\"tem\"])\n",
    "plt.title(\"temprature and sea label\")\n",
    "plt.ylabel(\"Temprature\")\n",
    "plt.xlabel(\"sea label with base 1990\")"
   ]
  },
  {
   "cell_type": "code",
   "execution_count": 82,
   "metadata": {},
   "outputs": [
    {
     "data": {
      "text/plain": [
       "Text(0.5, 6.799999999999994, 'sea label with base 1990')"
      ]
     },
     "execution_count": 82,
     "metadata": {},
     "output_type": "execute_result"
    },
    {
     "data": {
      "image/png": "[encoded data removed]",
      "text/plain": [
       "<Figure size 360x360 with 1 Axes>"
      ]
     },
     "metadata": {
      "needs_background": "light"
     },
     "output_type": "display_data"
    }
   ],
   "source": [
    "sns.lmplot(\"sea_label\",\"tem\",tem_pop_sea,order=2)\n",
    "plt.title(\"temprature and sea label\")\n",
    "plt.ylabel(\"Temprature\")\n",
    "plt.xlabel(\"sea label with base 1990\")"
   ]
  },
  {
   "cell_type": "code",
   "execution_count": 83,
   "metadata": {},
   "outputs": [
    {
     "data": {
      "text/plain": [
       "Text(0.5, 6.799999999999994, 'sea label with base 1990')"
      ]
     },
     "execution_count": 83,
     "metadata": {},
     "output_type": "execute_result"
    },
    {
     "data": {
      "image/png": "[encoded data removed]",
      "text/plain": [
       "<Figure size 360x360 with 1 Axes>"
      ]
     },
     "metadata": {
      "needs_background": "light"
     },
     "output_type": "display_data"
    }
   ],
   "source": [
    "sns.lmplot(\"sea_label\",\"tem\",tem_pop_sea,lowess=True)\n",
    "plt.title(\"temprature and sea label\")\n",
    "plt.ylabel(\"Temprature\")\n",
    "plt.xlabel(\"sea label with base 1990\")"
   ]
  },
  {
   "cell_type": "markdown",
   "metadata": {},
   "source": [
    "with an increase in the temperature even the sea label increased at the same rate and the two factors seem omhave a high class if positive correlation \n",
    "\n",
    "anoter notworty fact was that the tempertaue 13.9 and the sea label -60 was the thresh hold value after that the the increse in both the values tend to change thier nature to a very fearful rate"
   ]
  },
  {
   "cell_type": "markdown",
   "metadata": {},
   "source": [
    "# green_house_gas & tem"
   ]
  },
  {
   "cell_type": "code",
   "execution_count": 146,
   "metadata": {},
   "outputs": [
    {
     "data": {
      "text/html": [
       "<div>\n",
       "<style scoped>\n",
       "    .dataframe tbody tr th:only-of-type {\n",
       "        vertical-align: middle;\n",
       "    }\n",
       "\n",
       "    .dataframe tbody tr th {\n",
       "        vertical-align: top;\n",
       "    }\n",
       "\n",
       "    .dataframe thead th {\n",
       "        text-align: right;\n",
       "    }\n",
       "</style>\n",
       "<table border=\"1\" class=\"dataframe\">\n",
       "  <thead>\n",
       "    <tr style=\"text-align: right;\">\n",
       "      <th></th>\n",
       "      <th>year</th>\n",
       "      <th>tem</th>\n",
       "      <th>pop</th>\n",
       "    </tr>\n",
       "  </thead>\n",
       "  <tbody>\n",
       "    <tr>\n",
       "      <th>0</th>\n",
       "      <td>1900.0</td>\n",
       "      <td>13.91</td>\n",
       "      <td>1.60</td>\n",
       "    </tr>\n",
       "    <tr>\n",
       "      <th>1</th>\n",
       "      <td>1927.0</td>\n",
       "      <td>13.85</td>\n",
       "      <td>2.00</td>\n",
       "    </tr>\n",
       "    <tr>\n",
       "      <th>2</th>\n",
       "      <td>1950.0</td>\n",
       "      <td>13.84</td>\n",
       "      <td>2.55</td>\n",
       "    </tr>\n",
       "    <tr>\n",
       "      <th>3</th>\n",
       "      <td>1955.0</td>\n",
       "      <td>13.89</td>\n",
       "      <td>2.80</td>\n",
       "    </tr>\n",
       "    <tr>\n",
       "      <th>4</th>\n",
       "      <td>1960.0</td>\n",
       "      <td>13.99</td>\n",
       "      <td>3.00</td>\n",
       "    </tr>\n",
       "  </tbody>\n",
       "</table>\n",
       "</div>"
      ],
      "text/plain": [
       "     year    tem   pop\n",
       "0  1900.0  13.91  1.60\n",
       "1  1927.0  13.85  2.00\n",
       "2  1950.0  13.84  2.55\n",
       "3  1955.0  13.89  2.80\n",
       "4  1960.0  13.99  3.00"
      ]
     },
     "execution_count": 146,
     "metadata": {},
     "output_type": "execute_result"
    }
   ],
   "source": [
    "tem_pop_sea.head()"
   ]
  },
  {
   "cell_type": "code",
   "execution_count": 85,
   "metadata": {},
   "outputs": [
    {
     "data": {
      "text/html": [
       "<div>\n",
       "<style scoped>\n",
       "    .dataframe tbody tr th:only-of-type {\n",
       "        vertical-align: middle;\n",
       "    }\n",
       "\n",
       "    .dataframe tbody tr th {\n",
       "        vertical-align: top;\n",
       "    }\n",
       "\n",
       "    .dataframe thead th {\n",
       "        text-align: right;\n",
       "    }\n",
       "</style>\n",
       "<table border=\"1\" class=\"dataframe\">\n",
       "  <thead>\n",
       "    <tr style=\"text-align: right;\">\n",
       "      <th></th>\n",
       "      <th>0</th>\n",
       "      <th>1</th>\n",
       "      <th>2</th>\n",
       "      <th>3</th>\n",
       "      <th>4</th>\n",
       "      <th>5</th>\n",
       "      <th>6</th>\n",
       "      <th>7</th>\n",
       "      <th>8</th>\n",
       "      <th>9</th>\n",
       "      <th>...</th>\n",
       "      <th>254</th>\n",
       "      <th>255</th>\n",
       "      <th>256</th>\n",
       "      <th>257</th>\n",
       "      <th>258</th>\n",
       "      <th>259</th>\n",
       "      <th>260</th>\n",
       "      <th>261</th>\n",
       "      <th>262</th>\n",
       "      <th>263</th>\n",
       "    </tr>\n",
       "  </thead>\n",
       "  <tbody>\n",
       "    <tr>\n",
       "      <th>Country Name</th>\n",
       "      <td>Aruba</td>\n",
       "      <td>Afghanistan</td>\n",
       "      <td>Angola</td>\n",
       "      <td>Albania</td>\n",
       "      <td>Andorra</td>\n",
       "      <td>Arab World</td>\n",
       "      <td>United Arab Emirates</td>\n",
       "      <td>Argentina</td>\n",
       "      <td>Armenia</td>\n",
       "      <td>American Samoa</td>\n",
       "      <td>...</td>\n",
       "      <td>Virgin Islands (U.S.)</td>\n",
       "      <td>Vietnam</td>\n",
       "      <td>Vanuatu</td>\n",
       "      <td>World</td>\n",
       "      <td>Samoa</td>\n",
       "      <td>Kosovo</td>\n",
       "      <td>Yemen, Rep.</td>\n",
       "      <td>South Africa</td>\n",
       "      <td>Zambia</td>\n",
       "      <td>Zimbabwe</td>\n",
       "    </tr>\n",
       "    <tr>\n",
       "      <th>Country Code</th>\n",
       "      <td>ABW</td>\n",
       "      <td>AFG</td>\n",
       "      <td>AGO</td>\n",
       "      <td>ALB</td>\n",
       "      <td>AND</td>\n",
       "      <td>ARB</td>\n",
       "      <td>ARE</td>\n",
       "      <td>ARG</td>\n",
       "      <td>ARM</td>\n",
       "      <td>ASM</td>\n",
       "      <td>...</td>\n",
       "      <td>VIR</td>\n",
       "      <td>VNM</td>\n",
       "      <td>VUT</td>\n",
       "      <td>WLD</td>\n",
       "      <td>WSM</td>\n",
       "      <td>XKX</td>\n",
       "      <td>YEM</td>\n",
       "      <td>ZAF</td>\n",
       "      <td>ZMB</td>\n",
       "      <td>ZWE</td>\n",
       "    </tr>\n",
       "    <tr>\n",
       "      <th>Indicator Name</th>\n",
       "      <td>Total greenhouse gas emissions (kt of CO2 equi...</td>\n",
       "      <td>Total greenhouse gas emissions (kt of CO2 equi...</td>\n",
       "      <td>Total greenhouse gas emissions (kt of CO2 equi...</td>\n",
       "      <td>Total greenhouse gas emissions (kt of CO2 equi...</td>\n",
       "      <td>Total greenhouse gas emissions (kt of CO2 equi...</td>\n",
       "      <td>Total greenhouse gas emissions (kt of CO2 equi...</td>\n",
       "      <td>Total greenhouse gas emissions (kt of CO2 equi...</td>\n",
       "      <td>Total greenhouse gas emissions (kt of CO2 equi...</td>\n",
       "      <td>Total greenhouse gas emissions (kt of CO2 equi...</td>\n",
       "      <td>Total greenhouse gas emissions (kt of CO2 equi...</td>\n",
       "      <td>...</td>\n",
       "      <td>Total greenhouse gas emissions (kt of CO2 equi...</td>\n",
       "      <td>Total greenhouse gas emissions (kt of CO2 equi...</td>\n",
       "      <td>Total greenhouse gas emissions (kt of CO2 equi...</td>\n",
       "      <td>Total greenhouse gas emissions (kt of CO2 equi...</td>\n",
       "      <td>Total greenhouse gas emissions (kt of CO2 equi...</td>\n",
       "      <td>Total greenhouse gas emissions (kt of CO2 equi...</td>\n",
       "      <td>Total greenhouse gas emissions (kt of CO2 equi...</td>\n",
       "      <td>Total greenhouse gas emissions (kt of CO2 equi...</td>\n",
       "      <td>Total greenhouse gas emissions (kt of CO2 equi...</td>\n",
       "      <td>Total greenhouse gas emissions (kt of CO2 equi...</td>\n",
       "    </tr>\n",
       "    <tr>\n",
       "      <th>Indicator Code</th>\n",
       "      <td>EN.ATM.GHGT.KT.CE</td>\n",
       "      <td>EN.ATM.GHGT.KT.CE</td>\n",
       "      <td>EN.ATM.GHGT.KT.CE</td>\n",
       "      <td>EN.ATM.GHGT.KT.CE</td>\n",
       "      <td>EN.ATM.GHGT.KT.CE</td>\n",
       "      <td>EN.ATM.GHGT.KT.CE</td>\n",
       "      <td>EN.ATM.GHGT.KT.CE</td>\n",
       "      <td>EN.ATM.GHGT.KT.CE</td>\n",
       "      <td>EN.ATM.GHGT.KT.CE</td>\n",
       "      <td>EN.ATM.GHGT.KT.CE</td>\n",
       "      <td>...</td>\n",
       "      <td>EN.ATM.GHGT.KT.CE</td>\n",
       "      <td>EN.ATM.GHGT.KT.CE</td>\n",
       "      <td>EN.ATM.GHGT.KT.CE</td>\n",
       "      <td>EN.ATM.GHGT.KT.CE</td>\n",
       "      <td>EN.ATM.GHGT.KT.CE</td>\n",
       "      <td>EN.ATM.GHGT.KT.CE</td>\n",
       "      <td>EN.ATM.GHGT.KT.CE</td>\n",
       "      <td>EN.ATM.GHGT.KT.CE</td>\n",
       "      <td>EN.ATM.GHGT.KT.CE</td>\n",
       "      <td>EN.ATM.GHGT.KT.CE</td>\n",
       "    </tr>\n",
       "    <tr>\n",
       "      <th>1960</th>\n",
       "      <td>NaN</td>\n",
       "      <td>NaN</td>\n",
       "      <td>NaN</td>\n",
       "      <td>NaN</td>\n",
       "      <td>NaN</td>\n",
       "      <td>NaN</td>\n",
       "      <td>NaN</td>\n",
       "      <td>NaN</td>\n",
       "      <td>NaN</td>\n",
       "      <td>NaN</td>\n",
       "      <td>...</td>\n",
       "      <td>NaN</td>\n",
       "      <td>NaN</td>\n",
       "      <td>NaN</td>\n",
       "      <td>NaN</td>\n",
       "      <td>NaN</td>\n",
       "      <td>NaN</td>\n",
       "      <td>NaN</td>\n",
       "      <td>NaN</td>\n",
       "      <td>NaN</td>\n",
       "      <td>NaN</td>\n",
       "    </tr>\n",
       "  </tbody>\n",
       "</table>\n",
       "<p>5 rows × 264 columns</p>\n",
       "</div>"
      ],
      "text/plain": [
       "                                                              0    \\\n",
       "Country Name                                                Aruba   \n",
       "Country Code                                                  ABW   \n",
       "Indicator Name  Total greenhouse gas emissions (kt of CO2 equi...   \n",
       "Indicator Code                                  EN.ATM.GHGT.KT.CE   \n",
       "1960                                                          NaN   \n",
       "\n",
       "                                                              1    \\\n",
       "Country Name                                          Afghanistan   \n",
       "Country Code                                                  AFG   \n",
       "Indicator Name  Total greenhouse gas emissions (kt of CO2 equi...   \n",
       "Indicator Code                                  EN.ATM.GHGT.KT.CE   \n",
       "1960                                                          NaN   \n",
       "\n",
       "                                                              2    \\\n",
       "Country Name                                               Angola   \n",
       "Country Code                                                  AGO   \n",
       "Indicator Name  Total greenhouse gas emissions (kt of CO2 equi...   \n",
       "Indicator Code                                  EN.ATM.GHGT.KT.CE   \n",
       "1960                                                          NaN   \n",
       "\n",
       "                                                              3    \\\n",
       "Country Name                                              Albania   \n",
       "Country Code                                                  ALB   \n",
       "Indicator Name  Total greenhouse gas emissions (kt of CO2 equi...   \n",
       "Indicator Code                                  EN.ATM.GHGT.KT.CE   \n",
       "1960                                                          NaN   \n",
       "\n",
       "                                                              4    \\\n",
       "Country Name                                              Andorra   \n",
       "Country Code                                                  AND   \n",
       "Indicator Name  Total greenhouse gas emissions (kt of CO2 equi...   \n",
       "Indicator Code                                  EN.ATM.GHGT.KT.CE   \n",
       "1960                                                          NaN   \n",
       "\n",
       "                                                              5    \\\n",
       "Country Name                                           Arab World   \n",
       "Country Code                                                  ARB   \n",
       "Indicator Name  Total greenhouse gas emissions (kt of CO2 equi...   \n",
       "Indicator Code                                  EN.ATM.GHGT.KT.CE   \n",
       "1960                                                          NaN   \n",
       "\n",
       "                                                              6    \\\n",
       "Country Name                                 United Arab Emirates   \n",
       "Country Code                                                  ARE   \n",
       "Indicator Name  Total greenhouse gas emissions (kt of CO2 equi...   \n",
       "Indicator Code                                  EN.ATM.GHGT.KT.CE   \n",
       "1960                                                          NaN   \n",
       "\n",
       "                                                              7    \\\n",
       "Country Name                                            Argentina   \n",
       "Country Code                                                  ARG   \n",
       "Indicator Name  Total greenhouse gas emissions (kt of CO2 equi...   \n",
       "Indicator Code                                  EN.ATM.GHGT.KT.CE   \n",
       "1960                                                          NaN   \n",
       "\n",
       "                                                              8    \\\n",
       "Country Name                                              Armenia   \n",
       "Country Code                                                  ARM   \n",
       "Indicator Name  Total greenhouse gas emissions (kt of CO2 equi...   \n",
       "Indicator Code                                  EN.ATM.GHGT.KT.CE   \n",
       "1960                                                          NaN   \n",
       "\n",
       "                                                              9    \\\n",
       "Country Name                                       American Samoa   \n",
       "Country Code                                                  ASM   \n",
       "Indicator Name  Total greenhouse gas emissions (kt of CO2 equi...   \n",
       "Indicator Code                                  EN.ATM.GHGT.KT.CE   \n",
       "1960                                                          NaN   \n",
       "\n",
       "                                      ...                          \\\n",
       "Country Name                          ...                           \n",
       "Country Code                          ...                           \n",
       "Indicator Name                        ...                           \n",
       "Indicator Code                        ...                           \n",
       "1960                                  ...                           \n",
       "\n",
       "                                                              254  \\\n",
       "Country Name                                Virgin Islands (U.S.)   \n",
       "Country Code                                                  VIR   \n",
       "Indicator Name  Total greenhouse gas emissions (kt of CO2 equi...   \n",
       "Indicator Code                                  EN.ATM.GHGT.KT.CE   \n",
       "1960                                                          NaN   \n",
       "\n",
       "                                                              255  \\\n",
       "Country Name                                              Vietnam   \n",
       "Country Code                                                  VNM   \n",
       "Indicator Name  Total greenhouse gas emissions (kt of CO2 equi...   \n",
       "Indicator Code                                  EN.ATM.GHGT.KT.CE   \n",
       "1960                                                          NaN   \n",
       "\n",
       "                                                              256  \\\n",
       "Country Name                                              Vanuatu   \n",
       "Country Code                                                  VUT   \n",
       "Indicator Name  Total greenhouse gas emissions (kt of CO2 equi...   \n",
       "Indicator Code                                  EN.ATM.GHGT.KT.CE   \n",
       "1960                                                          NaN   \n",
       "\n",
       "                                                              257  \\\n",
       "Country Name                                                World   \n",
       "Country Code                                                  WLD   \n",
       "Indicator Name  Total greenhouse gas emissions (kt of CO2 equi...   \n",
       "Indicator Code                                  EN.ATM.GHGT.KT.CE   \n",
       "1960                                                          NaN   \n",
       "\n",
       "                                                              258  \\\n",
       "Country Name                                                Samoa   \n",
       "Country Code                                                  WSM   \n",
       "Indicator Name  Total greenhouse gas emissions (kt of CO2 equi...   \n",
       "Indicator Code                                  EN.ATM.GHGT.KT.CE   \n",
       "1960                                                          NaN   \n",
       "\n",
       "                                                              259  \\\n",
       "Country Name                                               Kosovo   \n",
       "Country Code                                                  XKX   \n",
       "Indicator Name  Total greenhouse gas emissions (kt of CO2 equi...   \n",
       "Indicator Code                                  EN.ATM.GHGT.KT.CE   \n",
       "1960                                                          NaN   \n",
       "\n",
       "                                                              260  \\\n",
       "Country Name                                          Yemen, Rep.   \n",
       "Country Code                                                  YEM   \n",
       "Indicator Name  Total greenhouse gas emissions (kt of CO2 equi...   \n",
       "Indicator Code                                  EN.ATM.GHGT.KT.CE   \n",
       "1960                                                          NaN   \n",
       "\n",
       "                                                              261  \\\n",
       "Country Name                                         South Africa   \n",
       "Country Code                                                  ZAF   \n",
       "Indicator Name  Total greenhouse gas emissions (kt of CO2 equi...   \n",
       "Indicator Code                                  EN.ATM.GHGT.KT.CE   \n",
       "1960                                                          NaN   \n",
       "\n",
       "                                                              262  \\\n",
       "Country Name                                               Zambia   \n",
       "Country Code                                                  ZMB   \n",
       "Indicator Name  Total greenhouse gas emissions (kt of CO2 equi...   \n",
       "Indicator Code                                  EN.ATM.GHGT.KT.CE   \n",
       "1960                                                          NaN   \n",
       "\n",
       "                                                              263  \n",
       "Country Name                                             Zimbabwe  \n",
       "Country Code                                                  ZWE  \n",
       "Indicator Name  Total greenhouse gas emissions (kt of CO2 equi...  \n",
       "Indicator Code                                  EN.ATM.GHGT.KT.CE  \n",
       "1960                                                          NaN  \n",
       "\n",
       "[5 rows x 264 columns]"
      ]
     },
     "execution_count": 85,
     "metadata": {},
     "output_type": "execute_result"
    }
   ],
   "source": [
    "x21.head()"
   ]
  },
  {
   "cell_type": "code",
   "execution_count": 86,
   "metadata": {},
   "outputs": [
    {
     "data": {
      "text/plain": [
       "array(['Country Name', 'Country Code', 'Indicator Name', 'Indicator Code',\n",
       "       1960, 1961, 1962, 1963, 1964, 1965, 1966, 1967, 1968, 1969, 1970,\n",
       "       1971, 1972, 1973, 1974, 1975, 1976, 1977, 1978, 1979, 1980, 1981,\n",
       "       1982, 1983, 1984, 1985, 1986, 1987, 1988, 1989, 1990, 1991, 1992,\n",
       "       1993, 1994, 1995, 1996, 1997, 1998, 1999, 2000, 2001, 2002, 2003,\n",
       "       2004, 2005, 2006, 2007, 2008, 2009, 2010, 2011, 2012, 2013, 2014,\n",
       "       2015, 2016, 2017], dtype=object)"
      ]
     },
     "execution_count": 86,
     "metadata": {},
     "output_type": "execute_result"
    }
   ],
   "source": [
    "x21.index.values"
   ]
  },
  {
   "cell_type": "code",
   "execution_count": 87,
   "metadata": {},
   "outputs": [
    {
     "data": {
      "text/plain": [
       "array([           nan,            nan,            nan,            nan,\n",
       "                  nan,            nan,            nan,            nan,\n",
       "                  nan,            nan, 2.54691579e+08, 2.35353434e+08,\n",
       "       2.54110731e+08, 2.62528182e+08, 2.54529439e+08, 2.62058976e+08,\n",
       "       2.73972496e+08, 2.87763120e+08, 2.94019821e+08, 3.09535764e+08,\n",
       "       3.09141641e+08, 2.97693866e+08, 3.23245389e+08, 3.19499572e+08,\n",
       "       3.00551034e+08, 3.01242501e+08, 3.11607412e+08, 3.34869355e+08,\n",
       "       3.22849340e+08, 3.27771429e+08, 3.58057959e+08, 3.60159551e+08,\n",
       "       3.76541573e+08, 3.53393590e+08, 3.59395462e+08, 3.62960921e+08,\n",
       "       3.62410337e+08, 4.04390107e+08, 4.16426698e+08, 3.78674187e+08,\n",
       "       3.74071933e+08, 3.71263611e+08, 3.99571404e+08, 4.14986006e+08,\n",
       "       4.23272142e+08, 4.43627820e+08, 4.57262974e+08, 4.74655043e+08,\n",
       "       4.51887899e+08, 4.46289265e+08, 4.74055133e+08, 5.02080495e+08,\n",
       "       5.06847240e+08,            nan,            nan,            nan,\n",
       "                  nan,            nan])"
      ]
     },
     "execution_count": 87,
     "metadata": {},
     "output_type": "execute_result"
    }
   ],
   "source": [
    "k3"
   ]
  },
  {
   "cell_type": "code",
   "execution_count": 88,
   "metadata": {},
   "outputs": [],
   "source": [
    "df=((DataFrame([x21.index.values,k3],index=[\"year\",\"gas\"])).T).drop([0,1,2,3])"
   ]
  },
  {
   "cell_type": "code",
   "execution_count": 114,
   "metadata": {},
   "outputs": [
    {
     "data": {
      "text/html": [
       "<div>\n",
       "<style scoped>\n",
       "    .dataframe tbody tr th:only-of-type {\n",
       "        vertical-align: middle;\n",
       "    }\n",
       "\n",
       "    .dataframe tbody tr th {\n",
       "        vertical-align: top;\n",
       "    }\n",
       "\n",
       "    .dataframe thead th {\n",
       "        text-align: right;\n",
       "    }\n",
       "</style>\n",
       "<table border=\"1\" class=\"dataframe\">\n",
       "  <thead>\n",
       "    <tr style=\"text-align: right;\">\n",
       "      <th></th>\n",
       "      <th>year</th>\n",
       "      <th>gas</th>\n",
       "    </tr>\n",
       "  </thead>\n",
       "  <tbody>\n",
       "    <tr>\n",
       "      <th>4</th>\n",
       "      <td>1960</td>\n",
       "      <td>NaN</td>\n",
       "    </tr>\n",
       "    <tr>\n",
       "      <th>5</th>\n",
       "      <td>1961</td>\n",
       "      <td>NaN</td>\n",
       "    </tr>\n",
       "    <tr>\n",
       "      <th>6</th>\n",
       "      <td>1962</td>\n",
       "      <td>NaN</td>\n",
       "    </tr>\n",
       "    <tr>\n",
       "      <th>7</th>\n",
       "      <td>1963</td>\n",
       "      <td>NaN</td>\n",
       "    </tr>\n",
       "    <tr>\n",
       "      <th>8</th>\n",
       "      <td>1964</td>\n",
       "      <td>NaN</td>\n",
       "    </tr>\n",
       "  </tbody>\n",
       "</table>\n",
       "</div>"
      ],
      "text/plain": [
       "   year  gas\n",
       "4  1960  NaN\n",
       "5  1961  NaN\n",
       "6  1962  NaN\n",
       "7  1963  NaN\n",
       "8  1964  NaN"
      ]
     },
     "execution_count": 114,
     "metadata": {},
     "output_type": "execute_result"
    }
   ],
   "source": [
    "df.head()"
   ]
  },
  {
   "cell_type": "code",
   "execution_count": 90,
   "metadata": {},
   "outputs": [],
   "source": [
    "n3=len(df[\"year\"])"
   ]
  },
  {
   "cell_type": "code",
   "execution_count": 100,
   "metadata": {},
   "outputs": [
    {
     "data": {
      "text/plain": [
       "1964.0"
      ]
     },
     "execution_count": 100,
     "metadata": {},
     "output_type": "execute_result"
    }
   ],
   "source": [
    "df[\"year\"][8]"
   ]
  },
  {
   "cell_type": "code",
   "execution_count": 103,
   "metadata": {},
   "outputs": [
    {
     "data": {
      "text/plain": [
       "254691579.10587052"
      ]
     },
     "execution_count": 103,
     "metadata": {},
     "output_type": "execute_result"
    }
   ],
   "source": [
    "df[\"gas\"][10]"
   ]
  },
  {
   "cell_type": "code",
   "execution_count": 125,
   "metadata": {},
   "outputs": [],
   "source": [
    "k13=[]\n",
    "k14=[]\n",
    "for i in np.arange(4,n3):\n",
    "    for j in np.arange(n1):\n",
    "        if df[\"year\"][i]==k8[j]:\n",
    "            k14=np.append(k14,df[\"year\"][i])\n",
    "            k13=np.append(k13,df[\"gas\"][i])"
   ]
  },
  {
   "cell_type": "code",
   "execution_count": 108,
   "metadata": {},
   "outputs": [
    {
     "data": {
      "text/plain": [
       "array([           nan,            nan, 2.54529439e+08, 3.09535764e+08,\n",
       "       3.00551034e+08, 3.27771429e+08, 3.59395462e+08, 3.78674187e+08,\n",
       "       4.14986006e+08, 4.74055133e+08,            nan,            nan])"
      ]
     },
     "execution_count": 108,
     "metadata": {},
     "output_type": "execute_result"
    }
   ],
   "source": [
    "k13"
   ]
  },
  {
   "cell_type": "code",
   "execution_count": 126,
   "metadata": {},
   "outputs": [
    {
     "data": {
      "text/plain": [
       "array([1960., 1965., 1970., 1975., 1980., 1985., 1990., 1995., 1999.,\n",
       "       2006., 2009., 2011.])"
      ]
     },
     "execution_count": 126,
     "metadata": {},
     "output_type": "execute_result"
    }
   ],
   "source": [
    "k14"
   ]
  },
  {
   "cell_type": "code",
   "execution_count": 147,
   "metadata": {},
   "outputs": [
    {
     "data": {
      "text/plain": [
       "0     1900.0\n",
       "1     1927.0\n",
       "2     1950.0\n",
       "3     1955.0\n",
       "4     1960.0\n",
       "5     1965.0\n",
       "6     1970.0\n",
       "7     1975.0\n",
       "8     1980.0\n",
       "9     1985.0\n",
       "10    1990.0\n",
       "11    1995.0\n",
       "12    1999.0\n",
       "13    2006.0\n",
       "14    2009.0\n",
       "15    2011.0\n",
       "Name: year, dtype: float64"
      ]
     },
     "execution_count": 147,
     "metadata": {},
     "output_type": "execute_result"
    }
   ],
   "source": [
    "tem_pop_sea[\"year\"]"
   ]
  },
  {
   "cell_type": "code",
   "execution_count": 152,
   "metadata": {},
   "outputs": [],
   "source": [
    "tem_pop_sea[\"gh_gas\"]=np.nan"
   ]
  },
  {
   "cell_type": "code",
   "execution_count": 154,
   "metadata": {},
   "outputs": [],
   "source": [
    "tem_pop_sea[\"gh_gas\"][4:16]=k13"
   ]
  },
  {
   "cell_type": "code",
   "execution_count": 155,
   "metadata": {},
   "outputs": [],
   "source": [
    "tem_pop_sea_gr=tem_pop_sea"
   ]
  },
  {
   "cell_type": "code",
   "execution_count": 156,
   "metadata": {},
   "outputs": [
    {
     "data": {
      "text/html": [
       "<div>\n",
       "<style scoped>\n",
       "    .dataframe tbody tr th:only-of-type {\n",
       "        vertical-align: middle;\n",
       "    }\n",
       "\n",
       "    .dataframe tbody tr th {\n",
       "        vertical-align: top;\n",
       "    }\n",
       "\n",
       "    .dataframe thead th {\n",
       "        text-align: right;\n",
       "    }\n",
       "</style>\n",
       "<table border=\"1\" class=\"dataframe\">\n",
       "  <thead>\n",
       "    <tr style=\"text-align: right;\">\n",
       "      <th></th>\n",
       "      <th>year</th>\n",
       "      <th>tem</th>\n",
       "      <th>pop</th>\n",
       "      <th>gh_gas</th>\n",
       "    </tr>\n",
       "  </thead>\n",
       "  <tbody>\n",
       "    <tr>\n",
       "      <th>0</th>\n",
       "      <td>1900.0</td>\n",
       "      <td>13.91</td>\n",
       "      <td>1.60</td>\n",
       "      <td>NaN</td>\n",
       "    </tr>\n",
       "    <tr>\n",
       "      <th>1</th>\n",
       "      <td>1927.0</td>\n",
       "      <td>13.85</td>\n",
       "      <td>2.00</td>\n",
       "      <td>NaN</td>\n",
       "    </tr>\n",
       "    <tr>\n",
       "      <th>2</th>\n",
       "      <td>1950.0</td>\n",
       "      <td>13.84</td>\n",
       "      <td>2.55</td>\n",
       "      <td>NaN</td>\n",
       "    </tr>\n",
       "    <tr>\n",
       "      <th>3</th>\n",
       "      <td>1955.0</td>\n",
       "      <td>13.89</td>\n",
       "      <td>2.80</td>\n",
       "      <td>NaN</td>\n",
       "    </tr>\n",
       "    <tr>\n",
       "      <th>4</th>\n",
       "      <td>1960.0</td>\n",
       "      <td>13.99</td>\n",
       "      <td>3.00</td>\n",
       "      <td>NaN</td>\n",
       "    </tr>\n",
       "    <tr>\n",
       "      <th>5</th>\n",
       "      <td>1965.0</td>\n",
       "      <td>13.89</td>\n",
       "      <td>3.30</td>\n",
       "      <td>NaN</td>\n",
       "    </tr>\n",
       "    <tr>\n",
       "      <th>6</th>\n",
       "      <td>1970.0</td>\n",
       "      <td>14.03</td>\n",
       "      <td>3.70</td>\n",
       "      <td>2.545294e+08</td>\n",
       "    </tr>\n",
       "    <tr>\n",
       "      <th>7</th>\n",
       "      <td>1975.0</td>\n",
       "      <td>13.96</td>\n",
       "      <td>4.00</td>\n",
       "      <td>3.095358e+08</td>\n",
       "    </tr>\n",
       "    <tr>\n",
       "      <th>8</th>\n",
       "      <td>1980.0</td>\n",
       "      <td>14.20</td>\n",
       "      <td>4.50</td>\n",
       "      <td>3.005510e+08</td>\n",
       "    </tr>\n",
       "    <tr>\n",
       "      <th>9</th>\n",
       "      <td>1985.0</td>\n",
       "      <td>14.05</td>\n",
       "      <td>4.85</td>\n",
       "      <td>3.277714e+08</td>\n",
       "    </tr>\n",
       "    <tr>\n",
       "      <th>10</th>\n",
       "      <td>1990.0</td>\n",
       "      <td>14.36</td>\n",
       "      <td>5.30</td>\n",
       "      <td>3.593955e+08</td>\n",
       "    </tr>\n",
       "    <tr>\n",
       "      <th>11</th>\n",
       "      <td>1995.0</td>\n",
       "      <td>14.39</td>\n",
       "      <td>5.70</td>\n",
       "      <td>3.786742e+08</td>\n",
       "    </tr>\n",
       "    <tr>\n",
       "      <th>12</th>\n",
       "      <td>1999.0</td>\n",
       "      <td>14.33</td>\n",
       "      <td>6.00</td>\n",
       "      <td>4.149860e+08</td>\n",
       "    </tr>\n",
       "    <tr>\n",
       "      <th>13</th>\n",
       "      <td>2006.0</td>\n",
       "      <td>14.55</td>\n",
       "      <td>6.50</td>\n",
       "      <td>4.740551e+08</td>\n",
       "    </tr>\n",
       "    <tr>\n",
       "      <th>14</th>\n",
       "      <td>2009.0</td>\n",
       "      <td>14.57</td>\n",
       "      <td>6.80</td>\n",
       "      <td>NaN</td>\n",
       "    </tr>\n",
       "    <tr>\n",
       "      <th>15</th>\n",
       "      <td>2011.0</td>\n",
       "      <td>14.52</td>\n",
       "      <td>7.00</td>\n",
       "      <td>NaN</td>\n",
       "    </tr>\n",
       "  </tbody>\n",
       "</table>\n",
       "</div>"
      ],
      "text/plain": [
       "      year    tem   pop        gh_gas\n",
       "0   1900.0  13.91  1.60           NaN\n",
       "1   1927.0  13.85  2.00           NaN\n",
       "2   1950.0  13.84  2.55           NaN\n",
       "3   1955.0  13.89  2.80           NaN\n",
       "4   1960.0  13.99  3.00           NaN\n",
       "5   1965.0  13.89  3.30           NaN\n",
       "6   1970.0  14.03  3.70  2.545294e+08\n",
       "7   1975.0  13.96  4.00  3.095358e+08\n",
       "8   1980.0  14.20  4.50  3.005510e+08\n",
       "9   1985.0  14.05  4.85  3.277714e+08\n",
       "10  1990.0  14.36  5.30  3.593955e+08\n",
       "11  1995.0  14.39  5.70  3.786742e+08\n",
       "12  1999.0  14.33  6.00  4.149860e+08\n",
       "13  2006.0  14.55  6.50  4.740551e+08\n",
       "14  2009.0  14.57  6.80           NaN\n",
       "15  2011.0  14.52  7.00           NaN"
      ]
     },
     "execution_count": 156,
     "metadata": {},
     "output_type": "execute_result"
    }
   ],
   "source": [
    "tem_pop_sea_gr"
   ]
  },
  {
   "cell_type": "code",
   "execution_count": 162,
   "metadata": {},
   "outputs": [
    {
     "data": {
      "text/plain": [
       "Text(0, 0.5, 'Green Houes Gas in Lakhs')"
      ]
     },
     "execution_count": 162,
     "metadata": {},
     "output_type": "execute_result"
    },
    {
     "data": {
      "image/png": "[encoded data removed]",
      "text/plain": [
       "<Figure size 432x288 with 1 Axes>"
      ]
     },
     "metadata": {
      "needs_background": "light"
     },
     "output_type": "display_data"
    }
   ],
   "source": [
    "plt.plot(tem_pop_sea_gr[\"year\"],tem_pop_sea_gr[\"gh_gas\"]/100000,\"g\")\n",
    "plt.title(\"increase in Green House Gas\")\n",
    "plt.xlabel(\"year\")\n",
    "plt.ylabel(\"Green Houes Gas in Lakhs\")"
   ]
  },
  {
   "cell_type": "code",
   "execution_count": 197,
   "metadata": {},
   "outputs": [
    {
     "name": "stderr",
     "output_type": "stream",
     "text": [
      "c:\\users\\dell\\appdata\\local\\programs\\python\\python37\\lib\\site-packages\\scipy\\stats\\stats.py:1713: FutureWarning: Using a non-tuple sequence for multidimensional indexing is deprecated; use `arr[tuple(seq)]` instead of `arr[seq]`. In the future this will be interpreted as an array index, `arr[np.array(seq)]`, which will result either in an error or a different result.\n",
      "  return np.add.reduce(sorted[indexer] * weights, axis=axis) / sumval\n"
     ]
    },
    {
     "data": {
      "text/plain": [
       "Text(9.175000000000004, 0.5, 'Green Houes Gas in Lakhs')"
      ]
     },
     "execution_count": 197,
     "metadata": {},
     "output_type": "execute_result"
    },
    {
     "data": {
      "image/png": "[encoded data removed]",
      "text/plain": [
       "<Figure size 360x360 with 1 Axes>"
      ]
     },
     "metadata": {
      "needs_background": "light"
     },
     "output_type": "display_data"
    }
   ],
   "source": [
    "sns.lmplot(\"year\",\"gh_gas\",tem_pop_sea_gr,order=1,line_kws={\"color\":\"green\",\"linewidth\":\"2\"},scatter_kws={\"color\":\"red\",\"marker\":\"o\"})\n",
    "plt.title(\"increase in Green House Gas\")\n",
    "plt.xlabel(\"year\")\n",
    "plt.ylabel(\"Green Houes Gas in Lakhs\")"
   ]
  },
  {
   "cell_type": "code",
   "execution_count": 196,
   "metadata": {},
   "outputs": [
    {
     "data": {
      "text/plain": [
       "Text(6.800000000000004, 0.5, 'Green Houes Gas in Lakhs')"
      ]
     },
     "execution_count": 196,
     "metadata": {},
     "output_type": "execute_result"
    },
    {
     "data": {
      "image/png": "[encoded data removed]",
      "text/plain": [
       "<Figure size 360x360 with 1 Axes>"
      ]
     },
     "metadata": {
      "needs_background": "light"
     },
     "output_type": "display_data"
    }
   ],
   "source": [
    "sns.lmplot(\"year\",\"gh_gas\",tem_pop_sea_gr,lowess=True,line_kws={\"color\":\"green\",\"linewidth\":\"2\"},scatter_kws={\"color\":\"red\",\"marker\":\"o\"})\n",
    "plt.title(\"increase in Green House Gas\")\n",
    "plt.xlabel(\"year\")\n",
    "plt.ylabel(\"Green Houes Gas in Lakhs\")"
   ]
  },
  {
   "cell_type": "markdown",
   "metadata": {},
   "source": [
    "# joint_study"
   ]
  },
  {
   "cell_type": "code",
   "execution_count": 199,
   "metadata": {},
   "outputs": [],
   "source": [
    "climate=tem_pop_sea_gr"
   ]
  },
  {
   "cell_type": "code",
   "execution_count": 207,
   "metadata": {},
   "outputs": [
    {
     "data": {
      "text/html": [
       "<div>\n",
       "<style scoped>\n",
       "    .dataframe tbody tr th:only-of-type {\n",
       "        vertical-align: middle;\n",
       "    }\n",
       "\n",
       "    .dataframe tbody tr th {\n",
       "        vertical-align: top;\n",
       "    }\n",
       "\n",
       "    .dataframe thead th {\n",
       "        text-align: right;\n",
       "    }\n",
       "</style>\n",
       "<table border=\"1\" class=\"dataframe\">\n",
       "  <thead>\n",
       "    <tr style=\"text-align: right;\">\n",
       "      <th></th>\n",
       "      <th>year</th>\n",
       "      <th>tem</th>\n",
       "      <th>pop</th>\n",
       "      <th>gh_gas</th>\n",
       "    </tr>\n",
       "  </thead>\n",
       "  <tbody>\n",
       "    <tr>\n",
       "      <th>0</th>\n",
       "      <td>1900.0</td>\n",
       "      <td>13.91</td>\n",
       "      <td>1.60</td>\n",
       "      <td>NaN</td>\n",
       "    </tr>\n",
       "    <tr>\n",
       "      <th>1</th>\n",
       "      <td>1927.0</td>\n",
       "      <td>13.85</td>\n",
       "      <td>2.00</td>\n",
       "      <td>NaN</td>\n",
       "    </tr>\n",
       "    <tr>\n",
       "      <th>2</th>\n",
       "      <td>1950.0</td>\n",
       "      <td>13.84</td>\n",
       "      <td>2.55</td>\n",
       "      <td>NaN</td>\n",
       "    </tr>\n",
       "    <tr>\n",
       "      <th>3</th>\n",
       "      <td>1955.0</td>\n",
       "      <td>13.89</td>\n",
       "      <td>2.80</td>\n",
       "      <td>NaN</td>\n",
       "    </tr>\n",
       "    <tr>\n",
       "      <th>4</th>\n",
       "      <td>1960.0</td>\n",
       "      <td>13.99</td>\n",
       "      <td>3.00</td>\n",
       "      <td>NaN</td>\n",
       "    </tr>\n",
       "    <tr>\n",
       "      <th>5</th>\n",
       "      <td>1965.0</td>\n",
       "      <td>13.89</td>\n",
       "      <td>3.30</td>\n",
       "      <td>NaN</td>\n",
       "    </tr>\n",
       "    <tr>\n",
       "      <th>6</th>\n",
       "      <td>1970.0</td>\n",
       "      <td>14.03</td>\n",
       "      <td>3.70</td>\n",
       "      <td>2.545294e+08</td>\n",
       "    </tr>\n",
       "    <tr>\n",
       "      <th>7</th>\n",
       "      <td>1975.0</td>\n",
       "      <td>13.96</td>\n",
       "      <td>4.00</td>\n",
       "      <td>3.095358e+08</td>\n",
       "    </tr>\n",
       "    <tr>\n",
       "      <th>8</th>\n",
       "      <td>1980.0</td>\n",
       "      <td>14.20</td>\n",
       "      <td>4.50</td>\n",
       "      <td>3.005510e+08</td>\n",
       "    </tr>\n",
       "    <tr>\n",
       "      <th>9</th>\n",
       "      <td>1985.0</td>\n",
       "      <td>14.05</td>\n",
       "      <td>4.85</td>\n",
       "      <td>3.277714e+08</td>\n",
       "    </tr>\n",
       "    <tr>\n",
       "      <th>10</th>\n",
       "      <td>1990.0</td>\n",
       "      <td>14.36</td>\n",
       "      <td>5.30</td>\n",
       "      <td>3.593955e+08</td>\n",
       "    </tr>\n",
       "    <tr>\n",
       "      <th>11</th>\n",
       "      <td>1995.0</td>\n",
       "      <td>14.39</td>\n",
       "      <td>5.70</td>\n",
       "      <td>3.786742e+08</td>\n",
       "    </tr>\n",
       "    <tr>\n",
       "      <th>12</th>\n",
       "      <td>1999.0</td>\n",
       "      <td>14.33</td>\n",
       "      <td>6.00</td>\n",
       "      <td>4.149860e+08</td>\n",
       "    </tr>\n",
       "    <tr>\n",
       "      <th>13</th>\n",
       "      <td>2006.0</td>\n",
       "      <td>14.55</td>\n",
       "      <td>6.50</td>\n",
       "      <td>4.740551e+08</td>\n",
       "    </tr>\n",
       "    <tr>\n",
       "      <th>14</th>\n",
       "      <td>2009.0</td>\n",
       "      <td>14.57</td>\n",
       "      <td>6.80</td>\n",
       "      <td>NaN</td>\n",
       "    </tr>\n",
       "    <tr>\n",
       "      <th>15</th>\n",
       "      <td>2011.0</td>\n",
       "      <td>14.52</td>\n",
       "      <td>7.00</td>\n",
       "      <td>NaN</td>\n",
       "    </tr>\n",
       "  </tbody>\n",
       "</table>\n",
       "</div>"
      ],
      "text/plain": [
       "      year    tem   pop        gh_gas\n",
       "0   1900.0  13.91  1.60           NaN\n",
       "1   1927.0  13.85  2.00           NaN\n",
       "2   1950.0  13.84  2.55           NaN\n",
       "3   1955.0  13.89  2.80           NaN\n",
       "4   1960.0  13.99  3.00           NaN\n",
       "5   1965.0  13.89  3.30           NaN\n",
       "6   1970.0  14.03  3.70  2.545294e+08\n",
       "7   1975.0  13.96  4.00  3.095358e+08\n",
       "8   1980.0  14.20  4.50  3.005510e+08\n",
       "9   1985.0  14.05  4.85  3.277714e+08\n",
       "10  1990.0  14.36  5.30  3.593955e+08\n",
       "11  1995.0  14.39  5.70  3.786742e+08\n",
       "12  1999.0  14.33  6.00  4.149860e+08\n",
       "13  2006.0  14.55  6.50  4.740551e+08\n",
       "14  2009.0  14.57  6.80           NaN\n",
       "15  2011.0  14.52  7.00           NaN"
      ]
     },
     "execution_count": 207,
     "metadata": {},
     "output_type": "execute_result"
    }
   ],
   "source": [
    "climate"
   ]
  },
  {
   "cell_type": "code",
   "execution_count": 208,
   "metadata": {},
   "outputs": [
    {
     "name": "stderr",
     "output_type": "stream",
     "text": [
      "c:\\users\\dell\\appdata\\local\\programs\\python\\python37\\lib\\site-packages\\numpy\\lib\\histograms.py:754: RuntimeWarning: invalid value encountered in greater_equal\n",
      "  keep = (tmp_a >= first_edge)\n",
      "c:\\users\\dell\\appdata\\local\\programs\\python\\python37\\lib\\site-packages\\numpy\\lib\\histograms.py:755: RuntimeWarning: invalid value encountered in less_equal\n",
      "  keep &= (tmp_a <= last_edge)\n"
     ]
    },
    {
     "data": {
      "text/plain": [
       "<seaborn.axisgrid.PairGrid at 0x246f25caa90>"
      ]
     },
     "execution_count": 208,
     "metadata": {},
     "output_type": "execute_result"
    },
    {
     "data": {
      "image/png": "[encoded data removed]",
      "text/plain": [
       "<Figure size 720x720 with 20 Axes>"
      ]
     },
     "metadata": {
      "needs_background": "light"
     },
     "output_type": "display_data"
    }
   ],
   "source": [
    "sns.pairplot(climate)"
   ]
  },
  {
   "cell_type": "code",
   "execution_count": 209,
   "metadata": {},
   "outputs": [
    {
     "data": {
      "text/plain": [
       "<seaborn.axisgrid.JointGrid at 0x246f2e195c0>"
      ]
     },
     "execution_count": 209,
     "metadata": {},
     "output_type": "execute_result"
    },
    {
     "data": {
      "image/png": "[encoded data removed]",
      "text/plain": [
       "<Figure size 432x432 with 3 Axes>"
      ]
     },
     "metadata": {
      "needs_background": "light"
     },
     "output_type": "display_data"
    }
   ],
   "source": [
    "sns.jointplot(climate[\"tem\"],climate[\"pop\"],kind=\"reg\")"
   ]
  },
  {
   "cell_type": "code",
   "execution_count": 210,
   "metadata": {},
   "outputs": [
    {
     "data": {
      "text/plain": [
       "<seaborn.axisgrid.JointGrid at 0x246f4106eb8>"
      ]
     },
     "execution_count": 210,
     "metadata": {},
     "output_type": "execute_result"
    },
    {
     "data": {
      "image/png": "[encoded data removed]",
      "text/plain": [
       "<Figure size 432x432 with 3 Axes>"
      ]
     },
     "metadata": {
      "needs_background": "light"
     },
     "output_type": "display_data"
    }
   ],
   "source": [
    "sns.jointplot(climate[\"tem\"],climate[\"gh_gas\"],kind=\"reg\")"
   ]
  },
  {
   "cell_type": "code",
   "execution_count": 211,
   "metadata": {},
   "outputs": [
    {
     "data": {
      "text/plain": [
       "<seaborn.axisgrid.JointGrid at 0x246f4215128>"
      ]
     },
     "execution_count": 211,
     "metadata": {},
     "output_type": "execute_result"
    },
    {
     "data": {
      "image/png": "[encoded data removed]",
      "text/plain": [
       "<Figure size 432x432 with 3 Axes>"
      ]
     },
     "metadata": {
      "needs_background": "light"
     },
     "output_type": "display_data"
    }
   ],
   "source": [
    "sns.jointplot(climate[\"pop\"],climate[\"gh_gas\"],kind=\"reg\")"
   ]
  },
  {
   "cell_type": "code",
   "execution_count": 234,
   "metadata": {},
   "outputs": [],
   "source": [
    "p=climate[\"pop\"].values"
   ]
  },
  {
   "cell_type": "code",
   "execution_count": 228,
   "metadata": {},
   "outputs": [],
   "source": [
    "g=climate[\"gh_gas\"].values"
   ]
  },
  {
   "cell_type": "code",
   "execution_count": 229,
   "metadata": {},
   "outputs": [],
   "source": [
    "import scipy.stats"
   ]
  },
  {
   "cell_type": "code",
   "execution_count": 230,
   "metadata": {},
   "outputs": [
    {
     "data": {
      "text/plain": [
       "(nan, 1.0)"
      ]
     },
     "execution_count": 230,
     "metadata": {},
     "output_type": "execute_result"
    }
   ],
   "source": [
    "scipy.stats.pearsonr(p,g)"
   ]
  },
  {
   "cell_type": "code",
   "execution_count": 231,
   "metadata": {},
   "outputs": [],
   "source": [
    "t=climate[\"tem\"]"
   ]
  },
  {
   "cell_type": "code",
   "execution_count": 232,
   "metadata": {},
   "outputs": [
    {
     "data": {
      "text/plain": [
       "(0.9442053662386928, 3.891822866421366e-08)"
      ]
     },
     "execution_count": 232,
     "metadata": {},
     "output_type": "execute_result"
    }
   ],
   "source": [
    "scipy.stats.pearsonr(p,t)"
   ]
  },
  {
   "cell_type": "code",
   "execution_count": 235,
   "metadata": {},
   "outputs": [],
   "source": [
    "import sklearn"
   ]
  },
  {
   "cell_type": "code",
   "execution_count": 236,
   "metadata": {},
   "outputs": [],
   "source": [
    "from sklearn.linear_model import LinearRegression"
   ]
  },
  {
   "cell_type": "code",
   "execution_count": 238,
   "metadata": {},
   "outputs": [],
   "source": [
    "reg=sklearn.linear_model.LinearRegression()"
   ]
  },
  {
   "cell_type": "code",
   "execution_count": 260,
   "metadata": {},
   "outputs": [],
   "source": [
    "multi=climate.drop([\"tem\",\"year\"],axis=1)"
   ]
  },
  {
   "cell_type": "code",
   "execution_count": 271,
   "metadata": {},
   "outputs": [],
   "source": [
    "multi1=multi[6:13]"
   ]
  },
  {
   "cell_type": "code",
   "execution_count": 274,
   "metadata": {},
   "outputs": [],
   "source": [
    "target=climate[\"tem\"][6:13]"
   ]
  },
  {
   "cell_type": "code",
   "execution_count": 275,
   "metadata": {},
   "outputs": [
    {
     "data": {
      "text/plain": [
       "LinearRegression(copy_X=True, fit_intercept=True, n_jobs=None,\n",
       "         normalize=False)"
      ]
     },
     "execution_count": 275,
     "metadata": {},
     "output_type": "execute_result"
    }
   ],
   "source": [
    "reg.fit(multi1,target)"
   ]
  },
  {
   "cell_type": "code",
   "execution_count": 276,
   "metadata": {},
   "outputs": [
    {
     "data": {
      "text/plain": [
       "array([ 3.70053112e-01, -3.19017828e-09])"
      ]
     },
     "execution_count": 276,
     "metadata": {},
     "output_type": "execute_result"
    }
   ],
   "source": [
    "reg.coef_"
   ]
  },
  {
   "cell_type": "code",
   "execution_count": null,
   "metadata": {},
   "outputs": [],
   "source": []
  }
 ],
 "metadata": {
  "kernelspec": {
   "display_name": "Python 3",
   "language": "python",
   "name": "python3"
  },
  "language_info": {
   "codemirror_mode": {
    "name": "ipython",
    "version": 3
   },
   "file_extension": ".py",
   "mimetype": "text/x-python",
   "name": "python",
   "nbconvert_exporter": "python",
   "pygments_lexer": "ipython3",
   "version": "3.7.1"
  }
 },
 "nbformat": 4,
 "nbformat_minor": 2
}
